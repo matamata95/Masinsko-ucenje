{
 "cells": [
  {
   "cell_type": "code",
   "execution_count": 38,
   "id": "255553d0",
   "metadata": {},
   "outputs": [],
   "source": [
    "import numpy as np\n",
    "import pandas as pd\n",
    "from sklearn.model_selection import train_test_split\n",
    "from sklearn.preprocessing import LabelEncoder\n",
    "from tensorflow.keras.preprocessing.text import Tokenizer\n",
    "from tensorflow.keras.preprocessing.sequence import pad_sequences\n",
    "from tensorflow.keras.models import Sequential\n",
    "from tensorflow.keras.callbacks import EarlyStopping\n",
    "from tensorflow.keras.layers import Embedding, Dense, SimpleRNN, RNN, LSTM, GRU, SpatialDropout1D\n"
   ]
  },
  {
   "cell_type": "code",
   "execution_count": 4,
   "id": "f3db7482",
   "metadata": {},
   "outputs": [],
   "source": [
    "data = pd.read_csv('sentiment140/training.1600000.processed.noemoticon.csv', encoding='latin-1')"
   ]
  },
  {
   "cell_type": "code",
   "execution_count": 5,
   "id": "06cbd165",
   "metadata": {},
   "outputs": [],
   "source": [
    "data = data.rename(columns={'0':'Sentiment',\n",
    "                     '1467810369': 'Tweet ID',\n",
    "                     'Mon Apr 06 22:19:45 PDT 2009':'Date',\n",
    "                     'NO_QUERY':'Query',\n",
    "                     '_TheSpecialOne_':'Username',\n",
    "                     \"@switchfoot http://twitpic.com/2y1zl - Awww, that\\'s a bummer.  You shoulda got David Carr of Third Day to do it. ;D\":'Tweet'})"
   ]
  },
  {
   "cell_type": "code",
   "execution_count": 6,
   "id": "b222c94c",
   "metadata": {},
   "outputs": [],
   "source": [
    "def Sentiment_remap(x):\n",
    "    if x == 0:\n",
    "        return 0\n",
    "    else:\n",
    "        return 1"
   ]
  },
  {
   "cell_type": "code",
   "execution_count": 7,
   "id": "9eb264a5",
   "metadata": {},
   "outputs": [],
   "source": [
    "data['Sentiment'] = data['Sentiment'].apply(Sentiment_remap)"
   ]
  },
  {
   "cell_type": "code",
   "execution_count": 8,
   "id": "a1d60814",
   "metadata": {},
   "outputs": [],
   "source": [
    "def username_removal(string):\n",
    "    \n",
    "    for i in range(string.count('@')): \n",
    "        username_begin_index = string.find('@')\n",
    "        username_end_index = string[username_begin_index::].find(' ') + username_begin_index\n",
    "    \n",
    "        string = string.replace(string[username_begin_index:username_end_index+1],' ')\n",
    "    \n",
    "    return string                    "
   ]
  },
  {
   "cell_type": "code",
   "execution_count": 9,
   "id": "e08c4717",
   "metadata": {},
   "outputs": [],
   "source": [
    "data['Tweet'] = data['Tweet'].apply(username_removal)"
   ]
  },
  {
   "cell_type": "code",
   "execution_count": 10,
   "id": "bbd2ea1b",
   "metadata": {},
   "outputs": [],
   "source": [
    "x = data['Tweet']\n",
    "y = data['Sentiment']"
   ]
  },
  {
   "cell_type": "code",
   "execution_count": 174,
   "id": "6e48571e",
   "metadata": {},
   "outputs": [],
   "source": [
    "x_train, x_test, y_train, y_test = train_test_split(x,y,train_size=0.03, test_size=0.01, stratify=y, random_state=7)"
   ]
  },
  {
   "cell_type": "code",
   "execution_count": 175,
   "id": "ff2d1460",
   "metadata": {},
   "outputs": [],
   "source": [
    "tokenizer = Tokenizer(num_words=10000)"
   ]
  },
  {
   "cell_type": "code",
   "execution_count": 176,
   "id": "0bcada61",
   "metadata": {},
   "outputs": [],
   "source": [
    "tokenizer.fit_on_texts(x_train)"
   ]
  },
  {
   "cell_type": "code",
   "execution_count": 177,
   "id": "e60ff4ee",
   "metadata": {},
   "outputs": [],
   "source": [
    "x_train_seq = tokenizer.texts_to_sequences(x_train)\n",
    "x_test_seq = tokenizer.texts_to_sequences(x_test)"
   ]
  },
  {
   "cell_type": "code",
   "execution_count": 178,
   "id": "d00148e4",
   "metadata": {},
   "outputs": [
    {
     "data": {
      "text/plain": [
       "[20, 1017, 177, 712, 2, 3, 305, 1607, 3, 3675, 23, 946, 12, 38, 38]"
      ]
     },
     "execution_count": 178,
     "metadata": {},
     "output_type": "execute_result"
    }
   ],
   "source": [
    "x_train_seq[0]"
   ]
  },
  {
   "cell_type": "code",
   "execution_count": 181,
   "id": "9bab51b3",
   "metadata": {},
   "outputs": [
    {
     "data": {
      "text/plain": [
       "12"
      ]
     },
     "execution_count": 181,
     "metadata": {},
     "output_type": "execute_result"
    }
   ],
   "source": [
    "non_zero = 0\n",
    "duzina = len(x_train_seq)\n",
    "\n",
    "for i in range(len(x_train_seq)):\n",
    "    non_zero += np.count_nonzero(x_train_seq[i])\n",
    "max_len = int(non_zero/duzina)\n",
    "max_len"
   ]
  },
  {
   "cell_type": "code",
   "execution_count": 182,
   "id": "b6e739e6",
   "metadata": {},
   "outputs": [],
   "source": [
    "x_train_pad = pad_sequences(x_train_seq, maxlen=max_len, padding='post')\n",
    "x_test_pad = pad_sequences(x_test_seq, maxlen=max_len, padding='post')"
   ]
  },
  {
   "cell_type": "markdown",
   "id": "66f70835",
   "metadata": {},
   "source": [
    "# MODEL 1 - Potpuno povezane neuronske mreze\n",
    "\n"
   ]
  },
  {
   "cell_type": "code",
   "execution_count": 183,
   "id": "3dee9a5a",
   "metadata": {},
   "outputs": [],
   "source": [
    "# import tensorflow as tf\n",
    "# tf.logging.set_verbosity(tf.logging.ERROR)"
   ]
  },
  {
   "cell_type": "code",
   "execution_count": 184,
   "id": "f75af4e8",
   "metadata": {},
   "outputs": [],
   "source": [
    "from keras.models import Sequential\n",
    "from keras.layers import Dense"
   ]
  },
  {
   "cell_type": "code",
   "execution_count": 185,
   "id": "13e78290",
   "metadata": {},
   "outputs": [],
   "source": [
    "model = Sequential([\n",
    "    Embedding(input_dim=10000, output_dim=128, input_length=max_len),\n",
    "    #SpatialDropout1D(0.25),\n",
    "    SimpleRNN(units=128),\n",
    "    #LSTM(64),\n",
    "    Dense(1, activation='sigmoid')\n",
    "])"
   ]
  },
  {
   "cell_type": "code",
   "execution_count": 186,
   "id": "cc9103a8",
   "metadata": {},
   "outputs": [],
   "source": [
    "model.compile(loss='binary_crossentropy', optimizer='adam', metrics=['accuracy'])"
   ]
  },
  {
   "cell_type": "code",
   "execution_count": 187,
   "id": "0599c979",
   "metadata": {},
   "outputs": [],
   "source": [
    "early_stopping = EarlyStopping(monitor='val_loss', patience=3)"
   ]
  },
  {
   "cell_type": "code",
   "execution_count": 188,
   "id": "06785f38",
   "metadata": {},
   "outputs": [
    {
     "name": "stdout",
     "output_type": "stream",
     "text": [
      "Epoch 1/10\n",
      "600/600 [==============================] - 12s 17ms/step - loss: 0.5515 - accuracy: 0.7179 - val_loss: 0.5148 - val_accuracy: 0.7548\n",
      "Epoch 2/10\n",
      "600/600 [==============================] - 10s 17ms/step - loss: 0.4271 - accuracy: 0.8064 - val_loss: 0.5475 - val_accuracy: 0.7432\n",
      "Epoch 3/10\n",
      "600/600 [==============================] - 10s 17ms/step - loss: 0.3085 - accuracy: 0.8713 - val_loss: 0.6243 - val_accuracy: 0.7266\n",
      "Epoch 4/10\n",
      "600/600 [==============================] - 10s 17ms/step - loss: 0.2174 - accuracy: 0.9128 - val_loss: 0.7674 - val_accuracy: 0.7104\n",
      "Epoch 5/10\n",
      "600/600 [==============================] - 10s 17ms/step - loss: 0.1694 - accuracy: 0.9351 - val_loss: 0.8513 - val_accuracy: 0.7031\n",
      "Epoch 6/10\n",
      "600/600 [==============================] - 10s 17ms/step - loss: 0.1371 - accuracy: 0.9494 - val_loss: 0.9173 - val_accuracy: 0.7011\n",
      "Epoch 7/10\n",
      "600/600 [==============================] - 10s 17ms/step - loss: 0.1178 - accuracy: 0.9572 - val_loss: 1.0342 - val_accuracy: 0.6792\n",
      "Epoch 8/10\n",
      "600/600 [==============================] - 10s 17ms/step - loss: 0.1060 - accuracy: 0.9603 - val_loss: 0.9989 - val_accuracy: 0.7064\n",
      "Epoch 9/10\n",
      "600/600 [==============================] - 10s 17ms/step - loss: 0.0992 - accuracy: 0.9628 - val_loss: 1.2135 - val_accuracy: 0.7014\n",
      "Epoch 10/10\n",
      "600/600 [==============================] - 10s 17ms/step - loss: 0.0900 - accuracy: 0.9675 - val_loss: 1.2019 - val_accuracy: 0.6805\n"
     ]
    }
   ],
   "source": [
    "history = model.fit(x_train_pad, y_train, epochs=10, batch_size=64, validation_split=0.2)"
   ]
  },
  {
   "cell_type": "code",
   "execution_count": 189,
   "id": "1a726d8e",
   "metadata": {},
   "outputs": [
    {
     "name": "stdout",
     "output_type": "stream",
     "text": [
      "500/500 [==============================] - 1s 2ms/step - loss: 1.1976 - accuracy: 0.6811\n"
     ]
    }
   ],
   "source": [
    "loss, accuracy = model.evaluate(x_test_pad, y_test)"
   ]
  },
  {
   "cell_type": "code",
   "execution_count": null,
   "id": "a0874470",
   "metadata": {},
   "outputs": [],
   "source": [
    "print(f'Test Loss: {loss:.4f}, Test Accuracy: {accuracy:.4f}')"
   ]
  },
  {
   "cell_type": "markdown",
   "id": "04e62f6e",
   "metadata": {},
   "source": [
    "# Modeli sa drugim paddingom"
   ]
  },
  {
   "cell_type": "code",
   "execution_count": 191,
   "id": "5edebe10",
   "metadata": {},
   "outputs": [],
   "source": [
    "max_len = 50\n",
    "x_train_pad = pad_sequences(x_train_seq, maxlen=max_len, padding='post')\n",
    "x_test_pad = pad_sequences(x_test_seq, maxlen=max_len, padding='post')"
   ]
  },
  {
   "cell_type": "code",
   "execution_count": 192,
   "id": "e588c304",
   "metadata": {},
   "outputs": [],
   "source": [
    "model1 = Sequential([\n",
    "    Embedding(input_dim=10000, output_dim=128, input_length=max_len),\n",
    "    #SpatialDropout1D(0.25),\n",
    "    SimpleRNN(units=128),\n",
    "    #LSTM(64),\n",
    "    Dense(1, activation='sigmoid')\n",
    "])"
   ]
  },
  {
   "cell_type": "code",
   "execution_count": 193,
   "id": "4c96b267",
   "metadata": {},
   "outputs": [],
   "source": [
    "model1.compile(loss='binary_crossentropy', optimizer='adam', metrics=['accuracy'])"
   ]
  },
  {
   "cell_type": "code",
   "execution_count": 194,
   "id": "6a513640",
   "metadata": {},
   "outputs": [
    {
     "name": "stdout",
     "output_type": "stream",
     "text": [
      "Epoch 1/10\n",
      "600/600 [==============================] - 19s 28ms/step - loss: 0.6963 - accuracy: 0.5056 - val_loss: 0.7038 - val_accuracy: 0.4929\n",
      "Epoch 2/10\n",
      "600/600 [==============================] - 17s 28ms/step - loss: 0.6945 - accuracy: 0.5130 - val_loss: 0.6930 - val_accuracy: 0.5074\n",
      "Epoch 3/10\n",
      "600/600 [==============================] - 17s 28ms/step - loss: 0.6949 - accuracy: 0.5006 - val_loss: 0.6931 - val_accuracy: 0.5071\n",
      "Epoch 4/10\n",
      "600/600 [==============================] - 17s 28ms/step - loss: 0.6946 - accuracy: 0.5013 - val_loss: 0.6934 - val_accuracy: 0.4939\n",
      "Epoch 5/10\n",
      "600/600 [==============================] - 17s 28ms/step - loss: 0.6949 - accuracy: 0.5053 - val_loss: 0.7049 - val_accuracy: 0.4939\n",
      "Epoch 6/10\n",
      "600/600 [==============================] - 17s 28ms/step - loss: 0.6804 - accuracy: 0.5673 - val_loss: 0.6699 - val_accuracy: 0.6027\n",
      "Epoch 7/10\n",
      "600/600 [==============================] - 17s 28ms/step - loss: 0.6460 - accuracy: 0.6372 - val_loss: 0.6654 - val_accuracy: 0.6043\n",
      "Epoch 8/10\n",
      "600/600 [==============================] - 17s 28ms/step - loss: 0.6347 - accuracy: 0.6483 - val_loss: 0.6708 - val_accuracy: 0.6097\n",
      "Epoch 9/10\n",
      "600/600 [==============================] - 17s 28ms/step - loss: 0.6097 - accuracy: 0.6746 - val_loss: 0.6760 - val_accuracy: 0.5900\n",
      "Epoch 10/10\n",
      "600/600 [==============================] - 16s 27ms/step - loss: 0.5790 - accuracy: 0.7045 - val_loss: 0.6702 - val_accuracy: 0.6135\n"
     ]
    }
   ],
   "source": [
    "history1 = model1.fit(x_train_pad, y_train, epochs=10, batch_size=64, validation_split=0.2)"
   ]
  },
  {
   "cell_type": "code",
   "execution_count": 195,
   "id": "d3b950ff",
   "metadata": {},
   "outputs": [
    {
     "name": "stdout",
     "output_type": "stream",
     "text": [
      "500/500 [==============================] - 2s 4ms/step - loss: 0.6656 - accuracy: 0.6237\n"
     ]
    }
   ],
   "source": [
    "loss, accuracy = model1.evaluate(x_test_pad, y_test)"
   ]
  },
  {
   "cell_type": "code",
   "execution_count": null,
   "id": "82ddc86c",
   "metadata": {},
   "outputs": [],
   "source": []
  },
  {
   "cell_type": "code",
   "execution_count": null,
   "id": "593ae342",
   "metadata": {},
   "outputs": [],
   "source": []
  },
  {
   "cell_type": "code",
   "execution_count": null,
   "id": "4f636fb2",
   "metadata": {},
   "outputs": [],
   "source": []
  },
  {
   "cell_type": "code",
   "execution_count": null,
   "id": "458ca667",
   "metadata": {},
   "outputs": [],
   "source": []
  }
 ],
 "metadata": {
  "kernelspec": {
   "display_name": "Python 3 (ipykernel)",
   "language": "python",
   "name": "python3"
  },
  "language_info": {
   "codemirror_mode": {
    "name": "ipython",
    "version": 3
   },
   "file_extension": ".py",
   "mimetype": "text/x-python",
   "name": "python",
   "nbconvert_exporter": "python",
   "pygments_lexer": "ipython3",
   "version": "3.11.5"
  }
 },
 "nbformat": 4,
 "nbformat_minor": 5
}
