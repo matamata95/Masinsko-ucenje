{
 "cells": [
  {
   "cell_type": "code",
   "execution_count": 1,
   "id": "255553d0",
   "metadata": {},
   "outputs": [
    {
     "name": "stdout",
     "output_type": "stream",
     "text": [
      "WARNING:tensorflow:From D:\\Users\\mata2\\anaconda3\\Lib\\site-packages\\keras\\src\\losses.py:2976: The name tf.losses.sparse_softmax_cross_entropy is deprecated. Please use tf.compat.v1.losses.sparse_softmax_cross_entropy instead.\n",
      "\n"
     ]
    }
   ],
   "source": [
    "import numpy as np\n",
    "import pandas as pd\n",
    "from sklearn.model_selection import train_test_split\n",
    "from sklearn.preprocessing import LabelEncoder\n",
    "from tensorflow.keras.preprocessing.text import Tokenizer\n",
    "from tensorflow.keras.preprocessing.sequence import pad_sequences\n",
    "from tensorflow.keras.models import Sequential\n",
    "from tensorflow.keras.callbacks import EarlyStopping\n",
    "from tensorflow.keras.layers import Embedding, Dense, SimpleRNN, RNN, LSTM, GRU, SpatialDropout1D\n"
   ]
  },
  {
   "cell_type": "code",
   "execution_count": 2,
   "id": "3c2d8443",
   "metadata": {},
   "outputs": [],
   "source": [
    "import matplotlib.pyplot as plt"
   ]
  },
  {
   "cell_type": "markdown",
   "id": "10a277f3",
   "metadata": {},
   "source": [
    "Ucitani su podaci preko excell tabele koja je skinuta sa \"https://www.kaggle.com/datasets/milobele/sentiment140-dataset-1600000-tweets\" web stranice."
   ]
  },
  {
   "cell_type": "code",
   "execution_count": 3,
   "id": "f3db7482",
   "metadata": {},
   "outputs": [],
   "source": [
    "data = pd.read_csv('sentiment140/training.1600000.processed.noemoticon.csv', encoding='latin-1', header=None, names=['Sentiment', 'Tweet ID', 'Date', 'Query', 'Username', 'Tweet'])"
   ]
  },
  {
   "cell_type": "code",
   "execution_count": 4,
   "id": "6764a1bd",
   "metadata": {},
   "outputs": [
    {
     "data": {
      "text/html": [
       "<div>\n",
       "<style scoped>\n",
       "    .dataframe tbody tr th:only-of-type {\n",
       "        vertical-align: middle;\n",
       "    }\n",
       "\n",
       "    .dataframe tbody tr th {\n",
       "        vertical-align: top;\n",
       "    }\n",
       "\n",
       "    .dataframe thead th {\n",
       "        text-align: right;\n",
       "    }\n",
       "</style>\n",
       "<table border=\"1\" class=\"dataframe\">\n",
       "  <thead>\n",
       "    <tr style=\"text-align: right;\">\n",
       "      <th></th>\n",
       "      <th>Sentiment</th>\n",
       "      <th>Tweet ID</th>\n",
       "      <th>Date</th>\n",
       "      <th>Query</th>\n",
       "      <th>Username</th>\n",
       "      <th>Tweet</th>\n",
       "    </tr>\n",
       "  </thead>\n",
       "  <tbody>\n",
       "    <tr>\n",
       "      <th>0</th>\n",
       "      <td>0</td>\n",
       "      <td>1467810369</td>\n",
       "      <td>Mon Apr 06 22:19:45 PDT 2009</td>\n",
       "      <td>NO_QUERY</td>\n",
       "      <td>_TheSpecialOne_</td>\n",
       "      <td>@switchfoot http://twitpic.com/2y1zl - Awww, t...</td>\n",
       "    </tr>\n",
       "    <tr>\n",
       "      <th>1</th>\n",
       "      <td>0</td>\n",
       "      <td>1467810672</td>\n",
       "      <td>Mon Apr 06 22:19:49 PDT 2009</td>\n",
       "      <td>NO_QUERY</td>\n",
       "      <td>scotthamilton</td>\n",
       "      <td>is upset that he can't update his Facebook by ...</td>\n",
       "    </tr>\n",
       "  </tbody>\n",
       "</table>\n",
       "</div>"
      ],
      "text/plain": [
       "   Sentiment    Tweet ID                          Date     Query  \\\n",
       "0          0  1467810369  Mon Apr 06 22:19:45 PDT 2009  NO_QUERY   \n",
       "1          0  1467810672  Mon Apr 06 22:19:49 PDT 2009  NO_QUERY   \n",
       "\n",
       "          Username                                              Tweet  \n",
       "0  _TheSpecialOne_  @switchfoot http://twitpic.com/2y1zl - Awww, t...  \n",
       "1    scotthamilton  is upset that he can't update his Facebook by ...  "
      ]
     },
     "execution_count": 4,
     "metadata": {},
     "output_type": "execute_result"
    }
   ],
   "source": [
    "data.head(2)"
   ]
  },
  {
   "cell_type": "markdown",
   "id": "0da1a78e",
   "metadata": {},
   "source": [
    "Sa obzirom na to da su tweetovi vec raspodeljeni na negativne i pozitivne (0 i 4 respektivno), remapirane su vrednosti u 0 i 1"
   ]
  },
  {
   "cell_type": "code",
   "execution_count": 5,
   "id": "b222c94c",
   "metadata": {},
   "outputs": [],
   "source": [
    "def Sentiment_remap(x):\n",
    "    if x == 0:\n",
    "        return 0\n",
    "    else:\n",
    "        return 1"
   ]
  },
  {
   "cell_type": "code",
   "execution_count": 6,
   "id": "9eb264a5",
   "metadata": {},
   "outputs": [],
   "source": [
    "data['Sentiment'] = data['Sentiment'].apply(Sentiment_remap)"
   ]
  },
  {
   "cell_type": "markdown",
   "id": "1d0de198",
   "metadata": {},
   "source": [
    "Takodje su uklonjeni korisnicki nalozi "
   ]
  },
  {
   "cell_type": "code",
   "execution_count": 7,
   "id": "a1d60814",
   "metadata": {},
   "outputs": [],
   "source": [
    "def username_removal(string):\n",
    "    \n",
    "    for i in range(string.count('@')): \n",
    "        username_begin_index = string.find('@')\n",
    "        username_end_index = string[username_begin_index::].find(' ') + username_begin_index\n",
    "    \n",
    "        string = string.replace(string[username_begin_index:username_end_index+1],' ')\n",
    "    \n",
    "    return string                    "
   ]
  },
  {
   "cell_type": "code",
   "execution_count": 8,
   "id": "e08c4717",
   "metadata": {},
   "outputs": [],
   "source": [
    "data['Tweet'] = data['Tweet'].apply(username_removal)"
   ]
  },
  {
   "cell_type": "code",
   "execution_count": 9,
   "id": "bbd2ea1b",
   "metadata": {},
   "outputs": [],
   "source": [
    "x = data['Tweet']\n",
    "y = data['Sentiment']"
   ]
  },
  {
   "cell_type": "code",
   "execution_count": 10,
   "id": "6e48571e",
   "metadata": {},
   "outputs": [],
   "source": [
    "x_train, x_test, y_train, y_test = train_test_split(x,y,train_size=0.67, stratify=y, random_state=7)"
   ]
  },
  {
   "cell_type": "markdown",
   "id": "22baeecd",
   "metadata": {},
   "source": [
    "Napravljen je tokenizator koji tokenizuja do 10 hiljada reci koji se pojavljuju u tekstu"
   ]
  },
  {
   "cell_type": "code",
   "execution_count": 11,
   "id": "ff2d1460",
   "metadata": {},
   "outputs": [],
   "source": [
    "tokenizer = Tokenizer(num_words=10000)"
   ]
  },
  {
   "cell_type": "code",
   "execution_count": 12,
   "id": "0bcada61",
   "metadata": {},
   "outputs": [],
   "source": [
    "tokenizer.fit_on_texts(x_train)"
   ]
  },
  {
   "cell_type": "code",
   "execution_count": 13,
   "id": "e60ff4ee",
   "metadata": {},
   "outputs": [],
   "source": [
    "x_train_seq = tokenizer.texts_to_sequences(x_train)\n",
    "x_test_seq = tokenizer.texts_to_sequences(x_test)"
   ]
  },
  {
   "cell_type": "code",
   "execution_count": 14,
   "id": "d00148e4",
   "metadata": {},
   "outputs": [
    {
     "data": {
      "text/plain": [
       "[149, 350, 9, 4, 478, 9983, 3, 2174, 5346]"
      ]
     },
     "execution_count": 14,
     "metadata": {},
     "output_type": "execute_result"
    }
   ],
   "source": [
    "x_train_seq[0]"
   ]
  },
  {
   "cell_type": "markdown",
   "id": "e90d0669",
   "metadata": {},
   "source": [
    "Srednja duzina tweeta je dobijena na sledeci nacin"
   ]
  },
  {
   "cell_type": "code",
   "execution_count": 15,
   "id": "9bab51b3",
   "metadata": {},
   "outputs": [
    {
     "data": {
      "text/plain": [
       "12"
      ]
     },
     "execution_count": 15,
     "metadata": {},
     "output_type": "execute_result"
    }
   ],
   "source": [
    "non_zero = 0\n",
    "duzina = len(x_train_seq)\n",
    "\n",
    "for i in range(len(x_train_seq)):\n",
    "    non_zero += np.count_nonzero(x_train_seq[i])\n",
    "max_len = int(non_zero/duzina)\n",
    "max_len"
   ]
  },
  {
   "cell_type": "markdown",
   "id": "20ab4cf9",
   "metadata": {},
   "source": [
    "Tweetovi se paduju na prosecnu duzinu tweeta na sledeci nacin. U prvobitnim pokusajevima recenice su se padovale do 100 reci, sto je za posledicu imalo da model nije nista naucio, sto ce biti kasnije prikazano."
   ]
  },
  {
   "cell_type": "code",
   "execution_count": 16,
   "id": "b6e739e6",
   "metadata": {},
   "outputs": [],
   "source": [
    "x_train_pad = pad_sequences(x_train_seq, maxlen=max_len, padding='post')\n",
    "x_test_pad = pad_sequences(x_test_seq, maxlen=max_len, padding='post')"
   ]
  },
  {
   "cell_type": "markdown",
   "id": "66f70835",
   "metadata": {},
   "source": [
    "# MODEL 1 - Rekuretna neuronska mreza\n",
    "\n"
   ]
  },
  {
   "cell_type": "code",
   "execution_count": 17,
   "id": "3dee9a5a",
   "metadata": {},
   "outputs": [],
   "source": [
    "# import tensorflow as tf\n",
    "# tf.logging.set_verbosity(tf.logging.ERROR)"
   ]
  },
  {
   "cell_type": "markdown",
   "id": "9d1f2bb6",
   "metadata": {},
   "source": [
    "Napravljena je jednostavna rekurentna mreza sa sledecim parametrima."
   ]
  },
  {
   "cell_type": "code",
   "execution_count": 18,
   "id": "13e78290",
   "metadata": {},
   "outputs": [
    {
     "name": "stdout",
     "output_type": "stream",
     "text": [
      "WARNING:tensorflow:From D:\\Users\\mata2\\anaconda3\\Lib\\site-packages\\keras\\src\\backend.py:873: The name tf.get_default_graph is deprecated. Please use tf.compat.v1.get_default_graph instead.\n",
      "\n"
     ]
    }
   ],
   "source": [
    "model = Sequential([\n",
    "    Embedding(input_dim=10000, output_dim=128, input_length=max_len),\n",
    "    #SpatialDropout1D(0.25),\n",
    "    SimpleRNN(units=128),\n",
    "    #LSTM(64),\n",
    "    Dense(1, activation='sigmoid')\n",
    "])"
   ]
  },
  {
   "cell_type": "code",
   "execution_count": 19,
   "id": "7a1e1ef1",
   "metadata": {},
   "outputs": [
    {
     "name": "stdout",
     "output_type": "stream",
     "text": [
      "Model: \"sequential\"\n",
      "_________________________________________________________________\n",
      " Layer (type)                Output Shape              Param #   \n",
      "=================================================================\n",
      " embedding (Embedding)       (None, 12, 128)           1280000   \n",
      "                                                                 \n",
      " simple_rnn (SimpleRNN)      (None, 128)               32896     \n",
      "                                                                 \n",
      " dense (Dense)               (None, 1)                 129       \n",
      "                                                                 \n",
      "=================================================================\n",
      "Total params: 1313025 (5.01 MB)\n",
      "Trainable params: 1313025 (5.01 MB)\n",
      "Non-trainable params: 0 (0.00 Byte)\n",
      "_________________________________________________________________\n"
     ]
    }
   ],
   "source": [
    "model.summary()"
   ]
  },
  {
   "cell_type": "code",
   "execution_count": 20,
   "id": "cc9103a8",
   "metadata": {},
   "outputs": [
    {
     "name": "stdout",
     "output_type": "stream",
     "text": [
      "WARNING:tensorflow:From D:\\Users\\mata2\\anaconda3\\Lib\\site-packages\\keras\\src\\optimizers\\__init__.py:309: The name tf.train.Optimizer is deprecated. Please use tf.compat.v1.train.Optimizer instead.\n",
      "\n"
     ]
    }
   ],
   "source": [
    "model.compile(loss='binary_crossentropy', optimizer='adam', metrics=['accuracy'])"
   ]
  },
  {
   "cell_type": "code",
   "execution_count": 21,
   "id": "0599c979",
   "metadata": {},
   "outputs": [],
   "source": [
    "early_stopping = EarlyStopping(monitor='val_loss', patience=3)"
   ]
  },
  {
   "cell_type": "code",
   "execution_count": 22,
   "id": "af88065c",
   "metadata": {},
   "outputs": [],
   "source": [
    "callback = EarlyStopping(monitor='loss',patience=3)"
   ]
  },
  {
   "cell_type": "code",
   "execution_count": 23,
   "id": "06785f38",
   "metadata": {},
   "outputs": [
    {
     "name": "stdout",
     "output_type": "stream",
     "text": [
      "Epoch 1/10\n",
      "WARNING:tensorflow:From D:\\Users\\mata2\\anaconda3\\Lib\\site-packages\\keras\\src\\utils\\tf_utils.py:492: The name tf.ragged.RaggedTensorValue is deprecated. Please use tf.compat.v1.ragged.RaggedTensorValue instead.\n",
      "\n",
      "WARNING:tensorflow:From D:\\Users\\mata2\\anaconda3\\Lib\\site-packages\\keras\\src\\engine\\base_layer_utils.py:384: The name tf.executing_eagerly_outside_functions is deprecated. Please use tf.compat.v1.executing_eagerly_outside_functions instead.\n",
      "\n",
      "13400/13400 [==============================] - 222s 16ms/step - loss: 0.4754 - accuracy: 0.7755 - val_loss: 0.4622 - val_accuracy: 0.7839\n",
      "Epoch 2/10\n",
      "13400/13400 [==============================] - 214s 16ms/step - loss: 0.4424 - accuracy: 0.7941 - val_loss: 0.4421 - val_accuracy: 0.7947\n",
      "Epoch 3/10\n",
      "13400/13400 [==============================] - 217s 16ms/step - loss: 0.4291 - accuracy: 0.8017 - val_loss: 0.4380 - val_accuracy: 0.7971\n",
      "Epoch 4/10\n",
      "13400/13400 [==============================] - 217s 16ms/step - loss: 0.4200 - accuracy: 0.8070 - val_loss: 0.4408 - val_accuracy: 0.7944\n",
      "Epoch 5/10\n",
      "13400/13400 [==============================] - 217s 16ms/step - loss: 0.4145 - accuracy: 0.8099 - val_loss: 0.4427 - val_accuracy: 0.7960\n",
      "Epoch 6/10\n",
      "13400/13400 [==============================] - 213s 16ms/step - loss: 0.4103 - accuracy: 0.8128 - val_loss: 0.4389 - val_accuracy: 0.7966\n",
      "Epoch 7/10\n",
      "13400/13400 [==============================] - 220s 16ms/step - loss: 0.4071 - accuracy: 0.8144 - val_loss: 0.4419 - val_accuracy: 0.7952\n",
      "Epoch 8/10\n",
      "13400/13400 [==============================] - 218s 16ms/step - loss: 0.4052 - accuracy: 0.8155 - val_loss: 0.4458 - val_accuracy: 0.7943\n",
      "Epoch 9/10\n",
      "13400/13400 [==============================] - 219s 16ms/step - loss: 0.4044 - accuracy: 0.8159 - val_loss: 0.4421 - val_accuracy: 0.7947\n",
      "Epoch 10/10\n",
      "13400/13400 [==============================] - 220s 16ms/step - loss: 0.4045 - accuracy: 0.8158 - val_loss: 0.4452 - val_accuracy: 0.7924\n"
     ]
    }
   ],
   "source": [
    "history = model.fit(x_train_pad, y_train, epochs=10, batch_size=64, validation_split=0.2, callbacks=[callback])"
   ]
  },
  {
   "cell_type": "code",
   "execution_count": 24,
   "id": "1a726d8e",
   "metadata": {},
   "outputs": [
    {
     "name": "stdout",
     "output_type": "stream",
     "text": [
      "16500/16500 [==============================] - 30s 2ms/step - loss: 0.4461 - accuracy: 0.7907\n"
     ]
    }
   ],
   "source": [
    "loss, accuracy = model.evaluate(x_test_pad, y_test)"
   ]
  },
  {
   "cell_type": "code",
   "execution_count": 25,
   "id": "a0874470",
   "metadata": {},
   "outputs": [
    {
     "name": "stdout",
     "output_type": "stream",
     "text": [
      "Test Loss: 0.4461, Test Accuracy: 0.7907\n"
     ]
    }
   ],
   "source": [
    "print(f'Test Loss: {loss:.4f}, Test Accuracy: {accuracy:.4f}')"
   ]
  },
  {
   "cell_type": "code",
   "execution_count": 26,
   "id": "956a53c3",
   "metadata": {},
   "outputs": [],
   "source": [
    "def plot_graphs(history):\n",
    "    plt.figure(figsize=(10, 4))\n",
    "\n",
    "    plt.subplot(1, 2, 1)\n",
    "    plt.title('Loss')\n",
    "    plt.plot(history.epoch, history.history['loss'], label='training')\n",
    "    plt.plot(history.epoch, history.history['val_loss'], label='validation')\n",
    "    plt.legend(loc='best')\n",
    "    plt.xlabel('Epochs')\n",
    "\n",
    "    plt.subplot(1, 2, 2)\n",
    "    plt.title('Accuracy')\n",
    "    plt.plot(history.epoch, history.history['accuracy'], label='training')\n",
    "    plt.plot(history.epoch, history.history['val_accuracy'], label='validation')\n",
    "    plt.legend(loc='best')\n",
    "    plt.xlabel('Epochs')\n",
    "\n",
    "    plt.show()"
   ]
  },
  {
   "cell_type": "code",
   "execution_count": 27,
   "id": "69997ebd",
   "metadata": {
    "scrolled": false
   },
   "outputs": [
    {
     "data": {
      "image/png": "[encoded data removed]",
      "text/plain": [
       "<Figure size 1000x400 with 2 Axes>"
      ]
     },
     "metadata": {},
     "output_type": "display_data"
    }
   ],
   "source": [
    "plot_graphs(history)"
   ]
  },
  {
   "cell_type": "markdown",
   "id": "04e62f6e",
   "metadata": {},
   "source": [
    "# Modeli sa drugim paddingom"
   ]
  },
  {
   "cell_type": "code",
   "execution_count": 28,
   "id": "5edebe10",
   "metadata": {},
   "outputs": [],
   "source": [
    "max_len = 100\n",
    "x_train_pad = pad_sequences(x_train_seq, maxlen=max_len, padding='post')\n",
    "x_test_pad = pad_sequences(x_test_seq, maxlen=max_len, padding='post')"
   ]
  },
  {
   "cell_type": "code",
   "execution_count": 29,
   "id": "e588c304",
   "metadata": {},
   "outputs": [],
   "source": [
    "model1 = Sequential([\n",
    "    Embedding(input_dim=10000, output_dim=128, input_length=max_len),\n",
    "    #SpatialDropout1D(0.25),\n",
    "    SimpleRNN(units=128),\n",
    "    #LSTM(64),\n",
    "    Dense(1, activation='sigmoid')\n",
    "])"
   ]
  },
  {
   "cell_type": "code",
   "execution_count": 30,
   "id": "4c96b267",
   "metadata": {},
   "outputs": [],
   "source": [
    "model1.compile(loss='binary_crossentropy', optimizer='adam', metrics=['accuracy'])"
   ]
  },
  {
   "cell_type": "code",
   "execution_count": 31,
   "id": "6a513640",
   "metadata": {},
   "outputs": [
    {
     "name": "stdout",
     "output_type": "stream",
     "text": [
      "Epoch 1/3\n",
      "13400/13400 [==============================] - 570s 42ms/step - loss: 0.6947 - accuracy: 0.5035 - val_loss: 0.7030 - val_accuracy: 0.4920\n",
      "Epoch 2/3\n",
      "13400/13400 [==============================] - 584s 44ms/step - loss: 0.6936 - accuracy: 0.5128 - val_loss: 0.6959 - val_accuracy: 0.4971\n",
      "Epoch 3/3\n",
      "13400/13400 [==============================] - 584s 44ms/step - loss: 0.6933 - accuracy: 0.5176 - val_loss: 0.6939 - val_accuracy: 0.5072\n"
     ]
    }
   ],
   "source": [
    "history1 = model1.fit(x_train_pad, y_train, epochs=3, batch_size=64, validation_split=0.2, callbacks=[callback])"
   ]
  },
  {
   "cell_type": "code",
   "execution_count": 32,
   "id": "d3b950ff",
   "metadata": {},
   "outputs": [
    {
     "name": "stdout",
     "output_type": "stream",
     "text": [
      "16500/16500 [==============================] - 114s 7ms/step - loss: 0.6941 - accuracy: 0.5051\n"
     ]
    }
   ],
   "source": [
    "loss, accuracy = model1.evaluate(x_test_pad, y_test)"
   ]
  },
  {
   "cell_type": "code",
   "execution_count": 33,
   "id": "82ddc86c",
   "metadata": {},
   "outputs": [
    {
     "data": {
      "image/png": "[encoded data removed]",
      "text/plain": [
       "<Figure size 1000x400 with 2 Axes>"
      ]
     },
     "metadata": {},
     "output_type": "display_data"
    }
   ],
   "source": [
    "plot_graphs(history1)"
   ]
  },
  {
   "cell_type": "markdown",
   "id": "13ab0d22",
   "metadata": {},
   "source": [
    "Kao sto se moze primetiti, posledica velikog broja 0 u samim recenicama ima za posledicu da se gubi sam sentiment tweeta ako je on vecinski sacinjen od velikog broja 0. Na osnovu takvih podataka, model ima 50% tacnost, tj. nema korisnih informacija od kojih moze da nauci sentiment."
   ]
  },
  {
   "cell_type": "code",
   "execution_count": 59,
   "id": "5347517d",
   "metadata": {},
   "outputs": [],
   "source": [
    "from joblib import dump, load"
   ]
  },
  {
   "cell_type": "code",
   "execution_count": 61,
   "id": "08160490",
   "metadata": {},
   "outputs": [
    {
     "data": {
      "text/plain": [
       "['tweet_NN.joblib']"
      ]
     },
     "execution_count": 61,
     "metadata": {},
     "output_type": "execute_result"
    }
   ],
   "source": [
    "dump(model, 'tweet_NN.joblib') "
   ]
  },
  {
   "cell_type": "code",
   "execution_count": 62,
   "id": "8e94ad5c",
   "metadata": {},
   "outputs": [
    {
     "data": {
      "text/plain": [
       "['tokenizer_NN']"
      ]
     },
     "execution_count": 62,
     "metadata": {},
     "output_type": "execute_result"
    }
   ],
   "source": [
    "dump(tokenizer, 'tokenizer_NN')"
   ]
  },
  {
   "cell_type": "code",
   "execution_count": 63,
   "id": "2c0c9100",
   "metadata": {},
   "outputs": [],
   "source": [
    "model_load = load('tweet_NN.joblib')"
   ]
  },
  {
   "cell_type": "code",
   "execution_count": 64,
   "id": "831d3b6f",
   "metadata": {},
   "outputs": [],
   "source": [
    "tokenizer_load = load('tokenizer_NN')"
   ]
  },
  {
   "cell_type": "code",
   "execution_count": 78,
   "id": "cb904fd6",
   "metadata": {},
   "outputs": [],
   "source": [
    "test_text = 'better'"
   ]
  },
  {
   "cell_type": "code",
   "execution_count": 79,
   "id": "4379f146",
   "metadata": {},
   "outputs": [],
   "source": [
    "test_text = tokenizer_load.texts_to_sequences(test_text)"
   ]
  },
  {
   "cell_type": "code",
   "execution_count": 80,
   "id": "7b61c20d",
   "metadata": {},
   "outputs": [],
   "source": [
    "test_text = pad_sequences(test_text, maxlen=12)"
   ]
  },
  {
   "cell_type": "code",
   "execution_count": 81,
   "id": "d5709fcd",
   "metadata": {},
   "outputs": [
    {
     "name": "stdout",
     "output_type": "stream",
     "text": [
      "1/1 [==============================] - 0s 21ms/step\n"
     ]
    },
    {
     "data": {
      "text/plain": [
       "array([[0.43868038],\n",
       "       [0.5924543 ],\n",
       "       [0.39441684],\n",
       "       [0.39441684],\n",
       "       [0.5924543 ],\n",
       "       [0.49199885]], dtype=float32)"
      ]
     },
     "execution_count": 81,
     "metadata": {},
     "output_type": "execute_result"
    }
   ],
   "source": [
    "model_load.predict(test_text)"
   ]
  }
 ],
 "metadata": {
  "kernelspec": {
   "display_name": "Python 3 (ipykernel)",
   "language": "python",
   "name": "python3"
  },
  "language_info": {
   "codemirror_mode": {
    "name": "ipython",
    "version": 3
   },
   "file_extension": ".py",
   "mimetype": "text/x-python",
   "name": "python",
   "nbconvert_exporter": "python",
   "pygments_lexer": "ipython3",
   "version": "3.11.5"
  }
 },
 "nbformat": 4,
 "nbformat_minor": 5
}
