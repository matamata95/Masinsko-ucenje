{
 "cells": [
  {
   "cell_type": "code",
   "execution_count": 1,
   "id": "255553d0",
   "metadata": {},
   "outputs": [
    {
     "name": "stdout",
     "output_type": "stream",
     "text": [
      "WARNING:tensorflow:From D:\\Users\\mata2\\anaconda3\\Lib\\site-packages\\keras\\src\\losses.py:2976: The name tf.losses.sparse_softmax_cross_entropy is deprecated. Please use tf.compat.v1.losses.sparse_softmax_cross_entropy instead.\n",
      "\n"
     ]
    }
   ],
   "source": [
    "import numpy as np\n",
    "import pandas as pd\n",
    "from sklearn.model_selection import train_test_split\n",
    "from sklearn.preprocessing import LabelEncoder\n",
    "from tensorflow.keras.preprocessing.text import Tokenizer\n",
    "from tensorflow.keras.preprocessing.sequence import pad_sequences\n",
    "from tensorflow.keras.models import Sequential\n",
    "from tensorflow.keras.callbacks import EarlyStopping\n",
    "from tensorflow.keras.layers import Embedding, Dense, SimpleRNN, RNN, LSTM, GRU, SpatialDropout1D\n"
   ]
  },
  {
   "cell_type": "code",
   "execution_count": 31,
   "id": "3c2d8443",
   "metadata": {},
   "outputs": [],
   "source": [
    "import matplotlib.pyplot as plt"
   ]
  },
  {
   "cell_type": "markdown",
   "id": "10a277f3",
   "metadata": {},
   "source": [
    "Ucitani su podaci preko excell tabele koja je skinuta sa \"https://www.kaggle.com/datasets/milobele/sentiment140-dataset-1600000-tweets\" web stranice."
   ]
  },
  {
   "cell_type": "code",
   "execution_count": 2,
   "id": "f3db7482",
   "metadata": {},
   "outputs": [],
   "source": [
    "data = pd.read_csv('sentiment140/training.1600000.processed.noemoticon.csv', encoding='latin-1')"
   ]
  },
  {
   "cell_type": "code",
   "execution_count": 3,
   "id": "6764a1bd",
   "metadata": {},
   "outputs": [
    {
     "data": {
      "text/html": [
       "<div>\n",
       "<style scoped>\n",
       "    .dataframe tbody tr th:only-of-type {\n",
       "        vertical-align: middle;\n",
       "    }\n",
       "\n",
       "    .dataframe tbody tr th {\n",
       "        vertical-align: top;\n",
       "    }\n",
       "\n",
       "    .dataframe thead th {\n",
       "        text-align: right;\n",
       "    }\n",
       "</style>\n",
       "<table border=\"1\" class=\"dataframe\">\n",
       "  <thead>\n",
       "    <tr style=\"text-align: right;\">\n",
       "      <th></th>\n",
       "      <th>0</th>\n",
       "      <th>1467810369</th>\n",
       "      <th>Mon Apr 06 22:19:45 PDT 2009</th>\n",
       "      <th>NO_QUERY</th>\n",
       "      <th>_TheSpecialOne_</th>\n",
       "      <th>@switchfoot http://twitpic.com/2y1zl - Awww, that's a bummer.  You shoulda got David Carr of Third Day to do it. ;D</th>\n",
       "    </tr>\n",
       "  </thead>\n",
       "  <tbody>\n",
       "    <tr>\n",
       "      <th>0</th>\n",
       "      <td>0</td>\n",
       "      <td>1467810672</td>\n",
       "      <td>Mon Apr 06 22:19:49 PDT 2009</td>\n",
       "      <td>NO_QUERY</td>\n",
       "      <td>scotthamilton</td>\n",
       "      <td>is upset that he can't update his Facebook by ...</td>\n",
       "    </tr>\n",
       "    <tr>\n",
       "      <th>1</th>\n",
       "      <td>0</td>\n",
       "      <td>1467810917</td>\n",
       "      <td>Mon Apr 06 22:19:53 PDT 2009</td>\n",
       "      <td>NO_QUERY</td>\n",
       "      <td>mattycus</td>\n",
       "      <td>@Kenichan I dived many times for the ball. Man...</td>\n",
       "    </tr>\n",
       "  </tbody>\n",
       "</table>\n",
       "</div>"
      ],
      "text/plain": [
       "   0  1467810369  Mon Apr 06 22:19:45 PDT 2009  NO_QUERY _TheSpecialOne_  \\\n",
       "0  0  1467810672  Mon Apr 06 22:19:49 PDT 2009  NO_QUERY   scotthamilton   \n",
       "1  0  1467810917  Mon Apr 06 22:19:53 PDT 2009  NO_QUERY        mattycus   \n",
       "\n",
       "  @switchfoot http://twitpic.com/2y1zl - Awww, that's a bummer.  You shoulda got David Carr of Third Day to do it. ;D  \n",
       "0  is upset that he can't update his Facebook by ...                                                                   \n",
       "1  @Kenichan I dived many times for the ball. Man...                                                                   "
      ]
     },
     "execution_count": 3,
     "metadata": {},
     "output_type": "execute_result"
    }
   ],
   "source": [
    "data.head(2)"
   ]
  },
  {
   "cell_type": "markdown",
   "id": "385bb029",
   "metadata": {},
   "source": [
    "Kao sto mozemo da primetimo, podaci icitani na ovaj nacin nemaju adekvatno numerisane kolone. Kako je nemoguce dodati novu kolonu zbog limitacije excela (moze da ima ucitano 2^20 tj. 1048576 redova), preimenovan je prvi red u adekvatne atribute."
   ]
  },
  {
   "cell_type": "code",
   "execution_count": 4,
   "id": "06cbd165",
   "metadata": {},
   "outputs": [],
   "source": [
    "data = data.rename(columns={'0':'Sentiment',\n",
    "                     '1467810369': 'Tweet ID',\n",
    "                     'Mon Apr 06 22:19:45 PDT 2009':'Date',\n",
    "                     'NO_QUERY':'Query',\n",
    "                     '_TheSpecialOne_':'Username',\n",
    "                     \"@switchfoot http://twitpic.com/2y1zl - Awww, that\\'s a bummer.  You shoulda got David Carr of Third Day to do it. ;D\":'Tweet'})"
   ]
  },
  {
   "cell_type": "markdown",
   "id": "0da1a78e",
   "metadata": {},
   "source": [
    "Sa obzirom na to da su tweetovi vec raspodeljeni na negativne i pozitivne (0 i 4 respektivno), remapirane su vrednosti u 0 i 1"
   ]
  },
  {
   "cell_type": "code",
   "execution_count": 5,
   "id": "b222c94c",
   "metadata": {},
   "outputs": [],
   "source": [
    "def Sentiment_remap(x):\n",
    "    if x == 0:\n",
    "        return 0\n",
    "    else:\n",
    "        return 1"
   ]
  },
  {
   "cell_type": "code",
   "execution_count": 6,
   "id": "9eb264a5",
   "metadata": {},
   "outputs": [],
   "source": [
    "data['Sentiment'] = data['Sentiment'].apply(Sentiment_remap)"
   ]
  },
  {
   "cell_type": "markdown",
   "id": "1d0de198",
   "metadata": {},
   "source": [
    "Takodje su uklonjeni korisnicki nalozi "
   ]
  },
  {
   "cell_type": "code",
   "execution_count": 7,
   "id": "a1d60814",
   "metadata": {},
   "outputs": [],
   "source": [
    "def username_removal(string):\n",
    "    \n",
    "    for i in range(string.count('@')): \n",
    "        username_begin_index = string.find('@')\n",
    "        username_end_index = string[username_begin_index::].find(' ') + username_begin_index\n",
    "    \n",
    "        string = string.replace(string[username_begin_index:username_end_index+1],' ')\n",
    "    \n",
    "    return string                    "
   ]
  },
  {
   "cell_type": "code",
   "execution_count": 8,
   "id": "e08c4717",
   "metadata": {},
   "outputs": [],
   "source": [
    "data['Tweet'] = data['Tweet'].apply(username_removal)"
   ]
  },
  {
   "cell_type": "code",
   "execution_count": 9,
   "id": "bbd2ea1b",
   "metadata": {},
   "outputs": [],
   "source": [
    "x = data['Tweet']\n",
    "y = data['Sentiment']"
   ]
  },
  {
   "cell_type": "code",
   "execution_count": 10,
   "id": "6e48571e",
   "metadata": {},
   "outputs": [],
   "source": [
    "x_train, x_test, y_train, y_test = train_test_split(x,y,train_size=0.03, test_size=0.01, stratify=y, random_state=7)"
   ]
  },
  {
   "cell_type": "markdown",
   "id": "22baeecd",
   "metadata": {},
   "source": [
    "Napravljen je tokenizator koji tokenizuja do 10 hiljada reci koji se pojavljuju u tekstu"
   ]
  },
  {
   "cell_type": "code",
   "execution_count": 11,
   "id": "ff2d1460",
   "metadata": {},
   "outputs": [],
   "source": [
    "tokenizer = Tokenizer(num_words=10000)"
   ]
  },
  {
   "cell_type": "code",
   "execution_count": 12,
   "id": "0bcada61",
   "metadata": {},
   "outputs": [],
   "source": [
    "tokenizer.fit_on_texts(x_train)"
   ]
  },
  {
   "cell_type": "code",
   "execution_count": 13,
   "id": "e60ff4ee",
   "metadata": {},
   "outputs": [],
   "source": [
    "x_train_seq = tokenizer.texts_to_sequences(x_train)\n",
    "x_test_seq = tokenizer.texts_to_sequences(x_test)"
   ]
  },
  {
   "cell_type": "code",
   "execution_count": 14,
   "id": "d00148e4",
   "metadata": {},
   "outputs": [
    {
     "data": {
      "text/plain": [
       "[20, 1017, 177, 712, 2, 3, 305, 1607, 3, 3675, 23, 946, 12, 38, 38]"
      ]
     },
     "execution_count": 14,
     "metadata": {},
     "output_type": "execute_result"
    }
   ],
   "source": [
    "x_train_seq[0]"
   ]
  },
  {
   "cell_type": "markdown",
   "id": "e90d0669",
   "metadata": {},
   "source": [
    "Srednja duzina tweeta je dobijena na sledeci nacin"
   ]
  },
  {
   "cell_type": "code",
   "execution_count": 15,
   "id": "9bab51b3",
   "metadata": {},
   "outputs": [
    {
     "data": {
      "text/plain": [
       "12"
      ]
     },
     "execution_count": 15,
     "metadata": {},
     "output_type": "execute_result"
    }
   ],
   "source": [
    "non_zero = 0\n",
    "duzina = len(x_train_seq)\n",
    "\n",
    "for i in range(len(x_train_seq)):\n",
    "    non_zero += np.count_nonzero(x_train_seq[i])\n",
    "max_len = int(non_zero/duzina)\n",
    "max_len"
   ]
  },
  {
   "cell_type": "markdown",
   "id": "20ab4cf9",
   "metadata": {},
   "source": [
    "Tweetovi se paduju na prosecnu duzinu tweeta na sledeci nacin. U prvobitnim pokusajevima recenice su se padovale do 100 reci, sto je za posledicu imalo da model nije nista naucio, sto ce biti kasnije prikazano."
   ]
  },
  {
   "cell_type": "code",
   "execution_count": 16,
   "id": "b6e739e6",
   "metadata": {},
   "outputs": [],
   "source": [
    "x_train_pad = pad_sequences(x_train_seq, maxlen=max_len, padding='post')\n",
    "x_test_pad = pad_sequences(x_test_seq, maxlen=max_len, padding='post')"
   ]
  },
  {
   "cell_type": "markdown",
   "id": "66f70835",
   "metadata": {},
   "source": [
    "# MODEL 1 - Potpuno povezane neuronske mreze\n",
    "\n"
   ]
  },
  {
   "cell_type": "code",
   "execution_count": 17,
   "id": "3dee9a5a",
   "metadata": {},
   "outputs": [],
   "source": [
    "# import tensorflow as tf\n",
    "# tf.logging.set_verbosity(tf.logging.ERROR)"
   ]
  },
  {
   "cell_type": "code",
   "execution_count": 18,
   "id": "f75af4e8",
   "metadata": {},
   "outputs": [],
   "source": [
    "from keras.models import Sequential\n",
    "from keras.layers import Dense"
   ]
  },
  {
   "cell_type": "markdown",
   "id": "9d1f2bb6",
   "metadata": {},
   "source": [
    "Napravljena je jednostavna rekurentna mreza sa sledecim parametrima."
   ]
  },
  {
   "cell_type": "code",
   "execution_count": 19,
   "id": "13e78290",
   "metadata": {},
   "outputs": [
    {
     "name": "stdout",
     "output_type": "stream",
     "text": [
      "WARNING:tensorflow:From D:\\Users\\mata2\\anaconda3\\Lib\\site-packages\\keras\\src\\backend.py:873: The name tf.get_default_graph is deprecated. Please use tf.compat.v1.get_default_graph instead.\n",
      "\n"
     ]
    }
   ],
   "source": [
    "model = Sequential([\n",
    "    Embedding(input_dim=10000, output_dim=128, input_length=max_len),\n",
    "    #SpatialDropout1D(0.25),\n",
    "    SimpleRNN(units=128),\n",
    "    #LSTM(64),\n",
    "    Dense(1, activation='sigmoid')\n",
    "])"
   ]
  },
  {
   "cell_type": "code",
   "execution_count": null,
   "id": "7a1e1ef1",
   "metadata": {},
   "outputs": [],
   "source": [
    "model.summary()"
   ]
  },
  {
   "cell_type": "code",
   "execution_count": 20,
   "id": "cc9103a8",
   "metadata": {},
   "outputs": [
    {
     "name": "stdout",
     "output_type": "stream",
     "text": [
      "WARNING:tensorflow:From D:\\Users\\mata2\\anaconda3\\Lib\\site-packages\\keras\\src\\optimizers\\__init__.py:309: The name tf.train.Optimizer is deprecated. Please use tf.compat.v1.train.Optimizer instead.\n",
      "\n"
     ]
    }
   ],
   "source": [
    "model.compile(loss='binary_crossentropy', optimizer='adam', metrics=['accuracy'])"
   ]
  },
  {
   "cell_type": "code",
   "execution_count": 21,
   "id": "0599c979",
   "metadata": {},
   "outputs": [],
   "source": [
    "early_stopping = EarlyStopping(monitor='val_loss', patience=3)"
   ]
  },
  {
   "cell_type": "code",
   "execution_count": 22,
   "id": "06785f38",
   "metadata": {},
   "outputs": [
    {
     "name": "stdout",
     "output_type": "stream",
     "text": [
      "Epoch 1/10\n",
      "WARNING:tensorflow:From D:\\Users\\mata2\\anaconda3\\Lib\\site-packages\\keras\\src\\utils\\tf_utils.py:492: The name tf.ragged.RaggedTensorValue is deprecated. Please use tf.compat.v1.ragged.RaggedTensorValue instead.\n",
      "\n",
      "WARNING:tensorflow:From D:\\Users\\mata2\\anaconda3\\Lib\\site-packages\\keras\\src\\engine\\base_layer_utils.py:384: The name tf.executing_eagerly_outside_functions is deprecated. Please use tf.compat.v1.executing_eagerly_outside_functions instead.\n",
      "\n",
      "600/600 [==============================] - 14s 17ms/step - loss: 0.5496 - accuracy: 0.7174 - val_loss: 0.5122 - val_accuracy: 0.7586\n",
      "Epoch 2/10\n",
      "600/600 [==============================] - 10s 16ms/step - loss: 0.4259 - accuracy: 0.8064 - val_loss: 0.5389 - val_accuracy: 0.7439\n",
      "Epoch 3/10\n",
      "600/600 [==============================] - 9s 16ms/step - loss: 0.3066 - accuracy: 0.8731 - val_loss: 0.6457 - val_accuracy: 0.7340\n",
      "Epoch 4/10\n",
      "600/600 [==============================] - 9s 16ms/step - loss: 0.2165 - accuracy: 0.9162 - val_loss: 0.7094 - val_accuracy: 0.7189\n",
      "Epoch 5/10\n",
      "600/600 [==============================] - 10s 17ms/step - loss: 0.1672 - accuracy: 0.9369 - val_loss: 0.8071 - val_accuracy: 0.7149\n",
      "Epoch 6/10\n",
      "600/600 [==============================] - 11s 19ms/step - loss: 0.1383 - accuracy: 0.9493 - val_loss: 0.8890 - val_accuracy: 0.7139\n",
      "Epoch 7/10\n",
      "600/600 [==============================] - 11s 18ms/step - loss: 0.1179 - accuracy: 0.9569 - val_loss: 1.0220 - val_accuracy: 0.6880\n",
      "Epoch 8/10\n",
      "600/600 [==============================] - 11s 19ms/step - loss: 0.1076 - accuracy: 0.9611 - val_loss: 1.0999 - val_accuracy: 0.7013\n",
      "Epoch 9/10\n",
      "600/600 [==============================] - 13s 21ms/step - loss: 0.0970 - accuracy: 0.9652 - val_loss: 1.1739 - val_accuracy: 0.6792\n",
      "Epoch 10/10\n",
      "600/600 [==============================] - 12s 20ms/step - loss: 0.0898 - accuracy: 0.9680 - val_loss: 1.1096 - val_accuracy: 0.6920\n"
     ]
    }
   ],
   "source": [
    "history = model.fit(x_train_pad, y_train, epochs=10, batch_size=64, validation_split=0.2)"
   ]
  },
  {
   "cell_type": "code",
   "execution_count": 23,
   "id": "1a726d8e",
   "metadata": {},
   "outputs": [
    {
     "name": "stdout",
     "output_type": "stream",
     "text": [
      "500/500 [==============================] - 2s 2ms/step - loss: 1.1213 - accuracy: 0.6892\n"
     ]
    }
   ],
   "source": [
    "loss, accuracy = model.evaluate(x_test_pad, y_test)"
   ]
  },
  {
   "cell_type": "code",
   "execution_count": 24,
   "id": "a0874470",
   "metadata": {},
   "outputs": [
    {
     "name": "stdout",
     "output_type": "stream",
     "text": [
      "Test Loss: 1.1213, Test Accuracy: 0.6892\n"
     ]
    }
   ],
   "source": [
    "print(f'Test Loss: {loss:.4f}, Test Accuracy: {accuracy:.4f}')"
   ]
  },
  {
   "cell_type": "code",
   "execution_count": 38,
   "id": "956a53c3",
   "metadata": {},
   "outputs": [],
   "source": [
    "def plot_graphs(history):\n",
    "    plt.figure(figsize=(10, 4))\n",
    "\n",
    "    plt.subplot(1, 2, 1)\n",
    "    plt.title('Loss')\n",
    "    plt.plot(history.epoch, history.history['loss'], label='training')\n",
    "    plt.plot(history.epoch, history.history['val_loss'], label='validation')\n",
    "    plt.legend(loc='best')\n",
    "    plt.xlabel('Epochs')\n",
    "\n",
    "    plt.subplot(1, 2, 2)\n",
    "    plt.title('Accuracy')\n",
    "    plt.plot(history.epoch, history.history['accuracy'], label='training')\n",
    "    plt.plot(history.epoch, history.history['val_accuracy'], label='validation')\n",
    "    plt.legend(loc='best')\n",
    "    plt.xlabel('Epochs')\n",
    "\n",
    "    plt.show()"
   ]
  },
  {
   "cell_type": "code",
   "execution_count": 41,
   "id": "69997ebd",
   "metadata": {
    "scrolled": true
   },
   "outputs": [
    {
     "data": {
      "image/png": "[encoded data removed]",
      "text/plain": [
       "<Figure size 1000x400 with 2 Axes>"
      ]
     },
     "metadata": {},
     "output_type": "display_data"
    }
   ],
   "source": [
    "plot_graphs(history)"
   ]
  },
  {
   "cell_type": "markdown",
   "id": "04e62f6e",
   "metadata": {},
   "source": [
    "# Modeli sa drugim paddingom"
   ]
  },
  {
   "cell_type": "code",
   "execution_count": 43,
   "id": "5edebe10",
   "metadata": {},
   "outputs": [],
   "source": [
    "max_len = 100\n",
    "x_train_pad = pad_sequences(x_train_seq, maxlen=max_len, padding='post')\n",
    "x_test_pad = pad_sequences(x_test_seq, maxlen=max_len, padding='post')"
   ]
  },
  {
   "cell_type": "code",
   "execution_count": 44,
   "id": "e588c304",
   "metadata": {},
   "outputs": [],
   "source": [
    "model1 = Sequential([\n",
    "    Embedding(input_dim=10000, output_dim=128, input_length=max_len),\n",
    "    #SpatialDropout1D(0.25),\n",
    "    SimpleRNN(units=128),\n",
    "    #LSTM(64),\n",
    "    Dense(1, activation='sigmoid')\n",
    "])"
   ]
  },
  {
   "cell_type": "code",
   "execution_count": 45,
   "id": "4c96b267",
   "metadata": {},
   "outputs": [],
   "source": [
    "model1.compile(loss='binary_crossentropy', optimizer='adam', metrics=['accuracy'])"
   ]
  },
  {
   "cell_type": "code",
   "execution_count": 46,
   "id": "6a513640",
   "metadata": {},
   "outputs": [
    {
     "name": "stdout",
     "output_type": "stream",
     "text": [
      "Epoch 1/10\n",
      "600/600 [==============================] - 25s 39ms/step - loss: 0.6972 - accuracy: 0.4967 - val_loss: 0.6971 - val_accuracy: 0.4951\n",
      "Epoch 2/10\n",
      "600/600 [==============================] - 23s 39ms/step - loss: 0.6984 - accuracy: 0.4971 - val_loss: 0.6939 - val_accuracy: 0.4929\n",
      "Epoch 3/10\n",
      "600/600 [==============================] - 24s 39ms/step - loss: 0.6951 - accuracy: 0.4988 - val_loss: 0.6941 - val_accuracy: 0.5071\n",
      "Epoch 4/10\n",
      "600/600 [==============================] - 23s 39ms/step - loss: 0.6950 - accuracy: 0.4976 - val_loss: 0.6955 - val_accuracy: 0.4930\n",
      "Epoch 5/10\n",
      "600/600 [==============================] - 25s 41ms/step - loss: 0.6955 - accuracy: 0.4985 - val_loss: 0.6946 - val_accuracy: 0.5069\n",
      "Epoch 6/10\n",
      "600/600 [==============================] - 26s 44ms/step - loss: 0.6945 - accuracy: 0.4981 - val_loss: 0.6937 - val_accuracy: 0.5070\n",
      "Epoch 7/10\n",
      "600/600 [==============================] - 23s 39ms/step - loss: 0.6950 - accuracy: 0.4972 - val_loss: 0.6944 - val_accuracy: 0.5071\n",
      "Epoch 8/10\n",
      "600/600 [==============================] - 23s 39ms/step - loss: 0.6953 - accuracy: 0.4989 - val_loss: 0.6934 - val_accuracy: 0.4929\n",
      "Epoch 9/10\n",
      "600/600 [==============================] - 23s 39ms/step - loss: 0.6951 - accuracy: 0.4953 - val_loss: 0.6931 - val_accuracy: 0.5070\n",
      "Epoch 10/10\n",
      "600/600 [==============================] - 23s 39ms/step - loss: 0.6947 - accuracy: 0.5002 - val_loss: 0.6932 - val_accuracy: 0.5069\n"
     ]
    }
   ],
   "source": [
    "history1 = model1.fit(x_train_pad, y_train, epochs=10, batch_size=64, validation_split=0.2)"
   ]
  },
  {
   "cell_type": "code",
   "execution_count": 47,
   "id": "d3b950ff",
   "metadata": {},
   "outputs": [
    {
     "name": "stdout",
     "output_type": "stream",
     "text": [
      "500/500 [==============================] - 4s 7ms/step - loss: 0.6935 - accuracy: 0.5001\n"
     ]
    }
   ],
   "source": [
    "loss, accuracy = model1.evaluate(x_test_pad, y_test)"
   ]
  },
  {
   "cell_type": "code",
   "execution_count": 48,
   "id": "82ddc86c",
   "metadata": {},
   "outputs": [
    {
     "data": {
      "image/png": "[encoded data removed]",
      "text/plain": [
       "<Figure size 1000x400 with 2 Axes>"
      ]
     },
     "metadata": {},
     "output_type": "display_data"
    }
   ],
   "source": [
    "plot_graphs(history1)"
   ]
  },
  {
   "cell_type": "markdown",
   "id": "13ab0d22",
   "metadata": {},
   "source": [
    "Kao sto se moze primetiti, posledica velikog broja 0 u samim recenicama ima za posledicu da se gubi sam sentiment tweeta ako je on vecinski sacinjen od velikog broja 0. Na osnovu takvih podataka, model ima 50% tacnost, tj. nema korisnih informacija od kojih moze da nauci sentiment."
   ]
  },
  {
   "cell_type": "code",
   "execution_count": null,
   "id": "4f636fb2",
   "metadata": {},
   "outputs": [],
   "source": []
  },
  {
   "cell_type": "code",
   "execution_count": null,
   "id": "458ca667",
   "metadata": {},
   "outputs": [],
   "source": []
  }
 ],
 "metadata": {
  "kernelspec": {
   "display_name": "Python 3 (ipykernel)",
   "language": "python",
   "name": "python3"
  },
  "language_info": {
   "codemirror_mode": {
    "name": "ipython",
    "version": 3
   },
   "file_extension": ".py",
   "mimetype": "text/x-python",
   "name": "python",
   "nbconvert_exporter": "python",
   "pygments_lexer": "ipython3",
   "version": "3.11.5"
  }
 },
 "nbformat": 4,
 "nbformat_minor": 5
}
