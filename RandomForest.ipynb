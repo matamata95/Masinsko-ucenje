{
 "cells": [
  {
   "cell_type": "code",
   "execution_count": 5,
   "id": "4dc579d0",
   "metadata": {},
   "outputs": [],
   "source": [
    "import pandas as pd\n",
    "import numpy as np"
   ]
  },
  {
   "cell_type": "code",
   "execution_count": 6,
   "id": "255553d0",
   "metadata": {},
   "outputs": [],
   "source": [
    "from sklearn.feature_extraction.text import CountVectorizer\n",
    "from sklearn.model_selection import train_test_split\n",
    "from sklearn.metrics import accuracy_score, classification_report\n",
    "import matplotlib.pyplot as plt\n",
    "from sklearn import tree\n",
    "from sklearn import ensemble"
   ]
  },
  {
   "cell_type": "code",
   "execution_count": 7,
   "id": "f3db7482",
   "metadata": {},
   "outputs": [],
   "source": [
    "data = pd.read_csv('training.1600000.processed.noemoticon.csv', encoding='latin-1')"
   ]
  },
  {
   "cell_type": "code",
   "execution_count": 8,
   "id": "06cbd165",
   "metadata": {},
   "outputs": [],
   "source": [
    "data = data.rename(columns={'0':'Sentiment',\n",
    "                     '1467810369': 'Tweet ID',\n",
    "                     'Mon Apr 06 22:19:45 PDT 2009':'Date',\n",
    "                     'NO_QUERY':'Query',\n",
    "                     '_TheSpecialOne_':'Username',\n",
    "                     \"@switchfoot http://twitpic.com/2y1zl - Awww, that\\'s a bummer.  You shoulda got David Carr of Third Day to do it. ;D\":'Tweet'})"
   ]
  },
  {
   "cell_type": "code",
   "execution_count": 9,
   "id": "b222c94c",
   "metadata": {},
   "outputs": [],
   "source": [
    "def Sentiment_remap(x):\n",
    "    if x == 0:\n",
    "        return 0\n",
    "    else:\n",
    "        return 1"
   ]
  },
  {
   "cell_type": "code",
   "execution_count": 10,
   "id": "9eb264a5",
   "metadata": {},
   "outputs": [],
   "source": [
    "data['Sentiment'] = data['Sentiment'].apply(Sentiment_remap)"
   ]
  },
  {
   "cell_type": "code",
   "execution_count": 11,
   "id": "a1d60814",
   "metadata": {},
   "outputs": [],
   "source": [
    "def username_removal(string):\n",
    "    \n",
    "    for i in range(string.count('@')): \n",
    "        username_begin_index = string.find('@')\n",
    "        username_end_index = string[username_begin_index::].find(' ') + username_begin_index\n",
    "    \n",
    "        string = string.replace(string[username_begin_index:username_end_index+1],' ')\n",
    "    \n",
    "    return string                    "
   ]
  },
  {
   "cell_type": "code",
   "execution_count": 12,
   "id": "e08c4717",
   "metadata": {},
   "outputs": [],
   "source": [
    "data['Tweet'] = data['Tweet'].apply(username_removal)"
   ]
  },
  {
   "cell_type": "code",
   "execution_count": 13,
   "id": "bbd2ea1b",
   "metadata": {},
   "outputs": [],
   "source": [
    "x = data['Tweet']\n",
    "y = data['Sentiment']"
   ]
  },
  {
   "cell_type": "code",
   "execution_count": 14,
   "id": "861c0f9e",
   "metadata": {},
   "outputs": [],
   "source": [
    "tweet_count_vectorizer = CountVectorizer()"
   ]
  },
  {
   "cell_type": "code",
   "execution_count": 15,
   "id": "6e48571e",
   "metadata": {},
   "outputs": [],
   "source": [
    "x_train, x_test, y_train, y_test = train_test_split(x,y,train_size=0.66, stratify=y, random_state=7)"
   ]
  },
  {
   "cell_type": "code",
   "execution_count": 16,
   "id": "0bcada61",
   "metadata": {},
   "outputs": [
    {
     "data": {
      "text/html": [
       "<style>#sk-container-id-1 {color: black;background-color: white;}#sk-container-id-1 pre{padding: 0;}#sk-container-id-1 div.sk-toggleable {background-color: white;}#sk-container-id-1 label.sk-toggleable__label {cursor: pointer;display: block;width: 100%;margin-bottom: 0;padding: 0.3em;box-sizing: border-box;text-align: center;}#sk-container-id-1 label.sk-toggleable__label-arrow:before {content: \"▸\";float: left;margin-right: 0.25em;color: #696969;}#sk-container-id-1 label.sk-toggleable__label-arrow:hover:before {color: black;}#sk-container-id-1 div.sk-estimator:hover label.sk-toggleable__label-arrow:before {color: black;}#sk-container-id-1 div.sk-toggleable__content {max-height: 0;max-width: 0;overflow: hidden;text-align: left;background-color: #f0f8ff;}#sk-container-id-1 div.sk-toggleable__content pre {margin: 0.2em;color: black;border-radius: 0.25em;background-color: #f0f8ff;}#sk-container-id-1 input.sk-toggleable__control:checked~div.sk-toggleable__content {max-height: 200px;max-width: 100%;overflow: auto;}#sk-container-id-1 input.sk-toggleable__control:checked~label.sk-toggleable__label-arrow:before {content: \"▾\";}#sk-container-id-1 div.sk-estimator input.sk-toggleable__control:checked~label.sk-toggleable__label {background-color: #d4ebff;}#sk-container-id-1 div.sk-label input.sk-toggleable__control:checked~label.sk-toggleable__label {background-color: #d4ebff;}#sk-container-id-1 input.sk-hidden--visually {border: 0;clip: rect(1px 1px 1px 1px);clip: rect(1px, 1px, 1px, 1px);height: 1px;margin: -1px;overflow: hidden;padding: 0;position: absolute;width: 1px;}#sk-container-id-1 div.sk-estimator {font-family: monospace;background-color: #f0f8ff;border: 1px dotted black;border-radius: 0.25em;box-sizing: border-box;margin-bottom: 0.5em;}#sk-container-id-1 div.sk-estimator:hover {background-color: #d4ebff;}#sk-container-id-1 div.sk-parallel-item::after {content: \"\";width: 100%;border-bottom: 1px solid gray;flex-grow: 1;}#sk-container-id-1 div.sk-label:hover label.sk-toggleable__label {background-color: #d4ebff;}#sk-container-id-1 div.sk-serial::before {content: \"\";position: absolute;border-left: 1px solid gray;box-sizing: border-box;top: 0;bottom: 0;left: 50%;z-index: 0;}#sk-container-id-1 div.sk-serial {display: flex;flex-direction: column;align-items: center;background-color: white;padding-right: 0.2em;padding-left: 0.2em;position: relative;}#sk-container-id-1 div.sk-item {position: relative;z-index: 1;}#sk-container-id-1 div.sk-parallel {display: flex;align-items: stretch;justify-content: center;background-color: white;position: relative;}#sk-container-id-1 div.sk-item::before, #sk-container-id-1 div.sk-parallel-item::before {content: \"\";position: absolute;border-left: 1px solid gray;box-sizing: border-box;top: 0;bottom: 0;left: 50%;z-index: -1;}#sk-container-id-1 div.sk-parallel-item {display: flex;flex-direction: column;z-index: 1;position: relative;background-color: white;}#sk-container-id-1 div.sk-parallel-item:first-child::after {align-self: flex-end;width: 50%;}#sk-container-id-1 div.sk-parallel-item:last-child::after {align-self: flex-start;width: 50%;}#sk-container-id-1 div.sk-parallel-item:only-child::after {width: 0;}#sk-container-id-1 div.sk-dashed-wrapped {border: 1px dashed gray;margin: 0 0.4em 0.5em 0.4em;box-sizing: border-box;padding-bottom: 0.4em;background-color: white;}#sk-container-id-1 div.sk-label label {font-family: monospace;font-weight: bold;display: inline-block;line-height: 1.2em;}#sk-container-id-1 div.sk-label-container {text-align: center;}#sk-container-id-1 div.sk-container {/* jupyter's `normalize.less` sets `[hidden] { display: none; }` but bootstrap.min.css set `[hidden] { display: none !important; }` so we also need the `!important` here to be able to override the default hidden behavior on the sphinx rendered scikit-learn.org. See: https://github.com/scikit-learn/scikit-learn/issues/21755 */display: inline-block !important;position: relative;}#sk-container-id-1 div.sk-text-repr-fallback {display: none;}</style><div id=\"sk-container-id-1\" class=\"sk-top-container\"><div class=\"sk-text-repr-fallback\"><pre>CountVectorizer()</pre><b>In a Jupyter environment, please rerun this cell to show the HTML representation or trust the notebook. <br />On GitHub, the HTML representation is unable to render, please try loading this page with nbviewer.org.</b></div><div class=\"sk-container\" hidden><div class=\"sk-item\"><div class=\"sk-estimator sk-toggleable\"><input class=\"sk-toggleable__control sk-hidden--visually\" id=\"sk-estimator-id-1\" type=\"checkbox\" checked><label for=\"sk-estimator-id-1\" class=\"sk-toggleable__label sk-toggleable__label-arrow\">CountVectorizer</label><div class=\"sk-toggleable__content\"><pre>CountVectorizer()</pre></div></div></div></div></div>"
      ],
      "text/plain": [
       "CountVectorizer()"
      ]
     },
     "execution_count": 16,
     "metadata": {},
     "output_type": "execute_result"
    }
   ],
   "source": [
    "tweet_count_vectorizer.fit(x_train)"
   ]
  },
  {
   "cell_type": "code",
   "execution_count": 17,
   "id": "e60ff4ee",
   "metadata": {},
   "outputs": [],
   "source": [
    "x_train_vectorized = tweet_count_vectorizer.transform(x_train)\n",
    "x_test_vectorized = tweet_count_vectorizer.transform(x_test)"
   ]
  },
  {
   "cell_type": "markdown",
   "id": "66f70835",
   "metadata": {},
   "source": [
    "# MODEL 1 - Slucajne sume\n",
    "\n"
   ]
  },
  {
   "cell_type": "code",
   "execution_count": null,
   "id": "05908067",
   "metadata": {},
   "outputs": [],
   "source": [
    "\n"
   ]
  },
  {
   "cell_type": "code",
   "execution_count": 17,
   "id": "8aabf947",
   "metadata": {},
   "outputs": [],
   "source": [
    "accs1 = []\n",
    "for i in range(4,25, 4):\n",
    "\n",
    "    model1 = ensemble.RandomForestClassifier(n_estimators=20, max_depth=i, random_state=7)\n",
    "    model1.fit(x_train_vectorized, y_train)\n",
    "    y_predicted1 = model1.predict(x_test_vectorized)\n",
    "    accs1.append(accuracy_score(y_test, y_predicted1))\n",
    "    "
   ]
  },
  {
   "cell_type": "code",
   "execution_count": 18,
   "id": "04667903",
   "metadata": {},
   "outputs": [
    {
     "data": {
      "text/plain": [
       "<BarContainer object of 6 artists>"
      ]
     },
     "execution_count": 18,
     "metadata": {},
     "output_type": "execute_result"
    },
    {
     "data": {
      "image/png": "[encoded data removed]",
      "text/plain": [
       "<Figure size 640x480 with 1 Axes>"
      ]
     },
     "metadata": {},
     "output_type": "display_data"
    }
   ],
   "source": [
    "plt.bar(range(4, 25, 4), accs1, width=0.5)"
   ]
  },
  {
   "cell_type": "code",
   "execution_count": 20,
   "id": "070b327e",
   "metadata": {},
   "outputs": [
    {
     "name": "stdout",
     "output_type": "stream",
     "text": [
      "              precision    recall  f1-score   support\n",
      "\n",
      "           0       0.71      0.67      0.69    272000\n",
      "           1       0.69      0.73      0.71    272000\n",
      "\n",
      "    accuracy                           0.70    544000\n",
      "   macro avg       0.70      0.70      0.70    544000\n",
      "weighted avg       0.70      0.70      0.70    544000\n",
      "\n"
     ]
    }
   ],
   "source": [
    "print(classification_report(y_test, y_predicted1))"
   ]
  },
  {
   "cell_type": "code",
   "execution_count": 21,
   "id": "cf00b191",
   "metadata": {},
   "outputs": [],
   "source": [
    "#nsto nesto"
   ]
  },
  {
   "cell_type": "markdown",
   "id": "bc8b6e8f",
   "metadata": {},
   "source": [
    "# MODEL 2 - Prosta agregacija\n",
    "\n"
   ]
  },
  {
   "cell_type": "code",
   "execution_count": 22,
   "id": "aae8a7de",
   "metadata": {},
   "outputs": [],
   "source": [
    "accs2 = []\n",
    "for i in range(4,25, 4):\n",
    "    model2 = ensemble.BaggingClassifier(tree.DecisionTreeClassifier(max_depth=10 ,random_state=42), n_estimators=i*3, max_samples=i, bootstrap=True, random_state=7)\n",
    "    model2.fit(x_train_vectorized, y_train)\n",
    "    y_predicted2 = model2.predict(x_test_vectorized)\n",
    "    accs2.append(accuracy_score(y_test, y_predicted2))\n"
   ]
  },
  {
   "cell_type": "code",
   "execution_count": 23,
   "id": "976de238",
   "metadata": {},
   "outputs": [
    {
     "data": {
      "text/plain": [
       "<BarContainer object of 6 artists>"
      ]
     },
     "execution_count": 23,
     "metadata": {},
     "output_type": "execute_result"
    },
    {
     "data": {
      "image/png": "[encoded data removed]",
      "text/plain": [
       "<Figure size 640x480 with 1 Axes>"
      ]
     },
     "metadata": {},
     "output_type": "display_data"
    }
   ],
   "source": [
    "plt.bar(range(4, 25, 4), accs2, width=0.5)"
   ]
  },
  {
   "cell_type": "code",
   "execution_count": 24,
   "id": "d956f5cb",
   "metadata": {},
   "outputs": [
    {
     "data": {
      "text/plain": [
       "[0.5098253676470588,\n",
       " 0.5099522058823529,\n",
       " 0.5419705882352941,\n",
       " 0.5692518382352941,\n",
       " 0.5674540441176471,\n",
       " 0.55715625]"
      ]
     },
     "execution_count": 24,
     "metadata": {},
     "output_type": "execute_result"
    }
   ],
   "source": [
    "accs2"
   ]
  },
  {
   "cell_type": "markdown",
   "id": "f8b3374c",
   "metadata": {},
   "source": [
    "# MODEL 3 - Pojacavanje (XG Boost)\n",
    "\n"
   ]
  },
  {
   "cell_type": "code",
   "execution_count": 18,
   "id": "6820d42b",
   "metadata": {},
   "outputs": [],
   "source": [
    "import xgboost"
   ]
  },
  {
   "cell_type": "code",
   "execution_count": null,
   "id": "7ef9b637",
   "metadata": {},
   "outputs": [],
   "source": [
    "accs3 = []\n",
    "for i in range(4,16, 4):\n",
    "    model3= xgboost.XGBRegressor(objective='reg:squarederror', n_estimators=10, max_depth=i)\n",
    "    model3.fit(x_train_vectorized, y_train)\n",
    "    y_predicted3 = model3.predict(x_test_vectorized)\n",
    "    #accs3.append(accuracy_score(y_test, y_predicted3))"
   ]
  },
  {
   "cell_type": "code",
   "execution_count": null,
   "id": "607d7873",
   "metadata": {},
   "outputs": [],
   "source": [
    "from sklearn import metrics\n",
    "metrics.mean_squared_error(y_test, y_predicted3)"
   ]
  },
  {
   "cell_type": "code",
   "execution_count": null,
   "id": "51fe7e49",
   "metadata": {},
   "outputs": [],
   "source": [
    "plt.bar(range(4, 25, 4), accs3, width=0.5)"
   ]
  },
  {
   "cell_type": "code",
   "execution_count": null,
   "id": "39b63c19",
   "metadata": {},
   "outputs": [],
   "source": [
    "pip install graphviz \n"
   ]
  },
  {
   "cell_type": "code",
   "execution_count": null,
   "id": "030250f6",
   "metadata": {},
   "outputs": [],
   "source": [
    "plt.figure(figsize=(20, 15), dpi=180)\n",
    "ax = plt.subplot(1, 1, 1)\n",
    "xgboost.plot_tree(model3, num_trees=20, ax=ax, rankdir='LR')\n",
    "plt.show()"
   ]
  }
 ],
 "metadata": {
  "kernelspec": {
   "display_name": "Python 3 (ipykernel)",
   "language": "python",
   "name": "python3"
  },
  "language_info": {
   "codemirror_mode": {
    "name": "ipython",
    "version": 3
   },
   "file_extension": ".py",
   "mimetype": "text/x-python",
   "name": "python",
   "nbconvert_exporter": "python",
   "pygments_lexer": "ipython3",
   "version": "3.10.12"
  }
 },
 "nbformat": 4,
 "nbformat_minor": 5
}
