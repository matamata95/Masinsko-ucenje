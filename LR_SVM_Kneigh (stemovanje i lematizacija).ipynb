{
 "cells": [
  {
   "cell_type": "code",
   "execution_count": 3,
   "id": "d9b6d085",
   "metadata": {},
   "outputs": [],
   "source": [
    "import numpy as np\n",
    "import pandas as pd\n",
    "import matplotlib.pyplot as plt"
   ]
  },
  {
   "cell_type": "code",
   "execution_count": 4,
   "id": "99aa1766",
   "metadata": {},
   "outputs": [],
   "source": [
    "from sklearn import model_selection\n",
    "from sklearn import feature_extraction\n",
    "from sklearn import linear_model\n",
    "from sklearn import neighbors\n",
    "from sklearn import svm\n",
    "from sklearn import metrics"
   ]
  },
  {
   "cell_type": "code",
   "execution_count": 5,
   "id": "84c71d4a",
   "metadata": {},
   "outputs": [],
   "source": [
    "from sklearn import feature_extraction"
   ]
  },
  {
   "cell_type": "code",
   "execution_count": 6,
   "id": "0aa24e7b",
   "metadata": {},
   "outputs": [],
   "source": [
    "from transformers import GPT2Tokenizer"
   ]
  },
  {
   "cell_type": "code",
   "execution_count": 7,
   "id": "b471461b",
   "metadata": {},
   "outputs": [],
   "source": [
    "data = pd.read_csv('sentiment140/training.1600000.processed.noemoticon.csv', encoding='latin-1')"
   ]
  },
  {
   "cell_type": "markdown",
   "id": "385bb029",
   "metadata": {},
   "source": [
    "Podaci ucitani na ovaj nacin nemaju pravilno imenovane atribute, pa su preimenovani sa odgovarajucim nazivima "
   ]
  },
  {
   "cell_type": "code",
   "execution_count": 8,
   "id": "7e91d29b",
   "metadata": {},
   "outputs": [],
   "source": [
    "data = data.rename(columns={'0':'Sentiment',\n",
    "                     '1467810369': 'Tweet ID',\n",
    "                     'Mon Apr 06 22:19:45 PDT 2009':'Date',\n",
    "                     'NO_QUERY':'Query',\n",
    "                     '_TheSpecialOne_':'Username',\n",
    "                     \"@switchfoot http://twitpic.com/2y1zl - Awww, that\\'s a bummer.  You shoulda got David Carr of Third Day to do it. ;D\":'Tweet'})"
   ]
  },
  {
   "cell_type": "code",
   "execution_count": 9,
   "id": "04a2d3b9",
   "metadata": {},
   "outputs": [
    {
     "data": {
      "text/html": [
       "<div>\n",
       "<style scoped>\n",
       "    .dataframe tbody tr th:only-of-type {\n",
       "        vertical-align: middle;\n",
       "    }\n",
       "\n",
       "    .dataframe tbody tr th {\n",
       "        vertical-align: top;\n",
       "    }\n",
       "\n",
       "    .dataframe thead th {\n",
       "        text-align: right;\n",
       "    }\n",
       "</style>\n",
       "<table border=\"1\" class=\"dataframe\">\n",
       "  <thead>\n",
       "    <tr style=\"text-align: right;\">\n",
       "      <th></th>\n",
       "      <th>Sentiment</th>\n",
       "      <th>Tweet ID</th>\n",
       "      <th>Date</th>\n",
       "      <th>Query</th>\n",
       "      <th>Username</th>\n",
       "      <th>Tweet</th>\n",
       "    </tr>\n",
       "  </thead>\n",
       "  <tbody>\n",
       "    <tr>\n",
       "      <th>0</th>\n",
       "      <td>0</td>\n",
       "      <td>1467810672</td>\n",
       "      <td>Mon Apr 06 22:19:49 PDT 2009</td>\n",
       "      <td>NO_QUERY</td>\n",
       "      <td>scotthamilton</td>\n",
       "      <td>is upset that he can't update his Facebook by ...</td>\n",
       "    </tr>\n",
       "    <tr>\n",
       "      <th>1</th>\n",
       "      <td>0</td>\n",
       "      <td>1467810917</td>\n",
       "      <td>Mon Apr 06 22:19:53 PDT 2009</td>\n",
       "      <td>NO_QUERY</td>\n",
       "      <td>mattycus</td>\n",
       "      <td>@Kenichan I dived many times for the ball. Man...</td>\n",
       "    </tr>\n",
       "  </tbody>\n",
       "</table>\n",
       "</div>"
      ],
      "text/plain": [
       "   Sentiment    Tweet ID                          Date     Query  \\\n",
       "0          0  1467810672  Mon Apr 06 22:19:49 PDT 2009  NO_QUERY   \n",
       "1          0  1467810917  Mon Apr 06 22:19:53 PDT 2009  NO_QUERY   \n",
       "\n",
       "        Username                                              Tweet  \n",
       "0  scotthamilton  is upset that he can't update his Facebook by ...  \n",
       "1       mattycus  @Kenichan I dived many times for the ball. Man...  "
      ]
     },
     "execution_count": 9,
     "metadata": {},
     "output_type": "execute_result"
    }
   ],
   "source": [
    "data.head(2)"
   ]
  },
  {
   "cell_type": "markdown",
   "id": "aae75302",
   "metadata": {},
   "source": [
    "Sentiment atribut oznacava da li je tvit pozitivan ili negativan. Vrednosti oznacene sa 0 odgovaraju negativnom sentimentu, 2 odgovara neutralnom sentimentu, dok 4 odgovara pozitivnom sentimentu"
   ]
  },
  {
   "cell_type": "code",
   "execution_count": 10,
   "id": "d63714e3",
   "metadata": {},
   "outputs": [
    {
     "data": {
      "text/plain": [
       "Index([4, 0], dtype='int64', name='Sentiment')"
      ]
     },
     "execution_count": 10,
     "metadata": {},
     "output_type": "execute_result"
    }
   ],
   "source": [
    "sentiments = data['Sentiment'].value_counts().keys()\n",
    "sentiments"
   ]
  },
  {
   "cell_type": "code",
   "execution_count": 11,
   "id": "de7debff",
   "metadata": {},
   "outputs": [
    {
     "data": {
      "text/plain": [
       "array([0, 4], dtype=int64)"
      ]
     },
     "execution_count": 11,
     "metadata": {},
     "output_type": "execute_result"
    }
   ],
   "source": [
    "np.unique(sentiments)"
   ]
  },
  {
   "cell_type": "markdown",
   "id": "871ad6f1",
   "metadata": {},
   "source": [
    "Kao sto mozemo da primetimo, uklonjeni su svi neutralni sentimenti, sa tim na umu su remapirane ciljne vrednosti u 0 (negativan) i 1 (pozitivan)"
   ]
  },
  {
   "cell_type": "code",
   "execution_count": 12,
   "id": "aacff5a9",
   "metadata": {},
   "outputs": [],
   "source": [
    "def username_removal(string):\n",
    "    \n",
    "    for i in range(string.count('@')): \n",
    "        username_begin_index = string.find('@')\n",
    "        username_end_index = string[username_begin_index::].find(' ') + username_begin_index\n",
    "    \n",
    "        string = string.replace(string[username_begin_index:username_end_index+1],' ')\n",
    "    \n",
    "    return string                    "
   ]
  },
  {
   "cell_type": "code",
   "execution_count": 13,
   "id": "3a2b8554",
   "metadata": {},
   "outputs": [],
   "source": [
    "data['Tweet'] = data['Tweet'].apply(username_removal)"
   ]
  },
  {
   "cell_type": "code",
   "execution_count": 14,
   "id": "d81d619b",
   "metadata": {},
   "outputs": [],
   "source": [
    "def Sentiment_remap(x):\n",
    "    if x == 0:\n",
    "        return 0\n",
    "    else:\n",
    "        return 1"
   ]
  },
  {
   "cell_type": "code",
   "execution_count": 15,
   "id": "fae46799",
   "metadata": {},
   "outputs": [],
   "source": [
    "data['Sentiment'] = data['Sentiment'].apply(Sentiment_remap)"
   ]
  },
  {
   "cell_type": "code",
   "execution_count": 16,
   "id": "5f676a70",
   "metadata": {},
   "outputs": [],
   "source": [
    "x = data['Tweet']\n",
    "y = data['Sentiment']"
   ]
  },
  {
   "cell_type": "code",
   "execution_count": 17,
   "id": "6557fd48",
   "metadata": {},
   "outputs": [
    {
     "name": "stdout",
     "output_type": "stream",
     "text": [
      "x shape:  (1599999,)\n",
      "y shape:  (1599999,)\n"
     ]
    }
   ],
   "source": [
    "print(\"x shape: \", x.shape)\n",
    "print(\"y shape: \", y.shape)"
   ]
  },
  {
   "cell_type": "markdown",
   "id": "b46e04ca",
   "metadata": {},
   "source": [
    "## Potrebno je napraviti vokabular"
   ]
  },
  {
   "cell_type": "code",
   "execution_count": 18,
   "id": "fc32713b",
   "metadata": {},
   "outputs": [],
   "source": [
    "import string\n",
    "import nltk\n",
    "from nltk import tokenize\n",
    "from nltk.corpus import stopwords\n",
    "from nltk.stem.snowball import SnowballStemmer\n",
    "from nltk.stem.lancaster import LancasterStemmer"
   ]
  },
  {
   "cell_type": "code",
   "execution_count": 19,
   "id": "2418663f",
   "metadata": {
    "scrolled": true
   },
   "outputs": [
    {
     "name": "stderr",
     "output_type": "stream",
     "text": [
      "[nltk_data] Downloading package punkt to\n",
      "[nltk_data]     C:\\Users\\mata2\\AppData\\Roaming\\nltk_data...\n",
      "[nltk_data]   Package punkt is already up-to-date!\n"
     ]
    },
    {
     "data": {
      "text/plain": [
       "True"
      ]
     },
     "execution_count": 19,
     "metadata": {},
     "output_type": "execute_result"
    }
   ],
   "source": [
    "nltk.download('punkt')"
   ]
  },
  {
   "cell_type": "code",
   "execution_count": 20,
   "id": "33e93804",
   "metadata": {},
   "outputs": [],
   "source": [
    "x_train, x_test, y_train, y_test = model_selection.train_test_split(x,y,train_size=0.01, test_size=0.01, stratify=y, random_state=7)"
   ]
  },
  {
   "cell_type": "code",
   "execution_count": 21,
   "id": "32da3b0a",
   "metadata": {},
   "outputs": [
    {
     "data": {
      "text/plain": [
       "(15999,)"
      ]
     },
     "execution_count": 21,
     "metadata": {},
     "output_type": "execute_result"
    }
   ],
   "source": [
    "x_train.shape"
   ]
  },
  {
   "cell_type": "markdown",
   "id": "8e4109fe",
   "metadata": {},
   "source": [
    "Delimo tvitove na recenice, pripremamo ih za tokenizaciju"
   ]
  },
  {
   "cell_type": "code",
   "execution_count": 30,
   "id": "661b5580",
   "metadata": {},
   "outputs": [],
   "source": [
    "def tweet_tokenizer(tweet):\n",
    "    tweet_tokens = nltk.tokenize.word_tokenize(tweet)\n",
    "    \n",
    "    tweet_stems = []\n",
    "    stemmer = nltk.stem.LancasterStemmer()\n",
    "    \n",
    "    for token in tweet_tokens:\n",
    "        if token in string.punctuation:\n",
    "            continue\n",
    "        if token in stopwords_list:\n",
    "            continue\n",
    "        if token.isdigit():\n",
    "            continue\n",
    "            \n",
    "        stem = stemmer.stem(token)\n",
    "        tweet_stems.append(stem)\n",
    "        \n",
    "    return tweet_stems"
   ]
  },
  {
   "cell_type": "code",
   "execution_count": 23,
   "id": "6da8eedc",
   "metadata": {},
   "outputs": [],
   "source": [
    "stopwords_list = stopwords.words('english')"
   ]
  },
  {
   "cell_type": "code",
   "execution_count": 32,
   "id": "fb37b5cf",
   "metadata": {},
   "outputs": [],
   "source": [
    "count_vectorizer = feature_extraction.text.CountVectorizer(min_df=2, tokenizer=tweet_tokenizer)"
   ]
  },
  {
   "cell_type": "code",
   "execution_count": 34,
   "id": "9a05615b",
   "metadata": {},
   "outputs": [
    {
     "data": {
      "text/html": [
       "<style>#sk-container-id-1 {color: black;background-color: white;}#sk-container-id-1 pre{padding: 0;}#sk-container-id-1 div.sk-toggleable {background-color: white;}#sk-container-id-1 label.sk-toggleable__label {cursor: pointer;display: block;width: 100%;margin-bottom: 0;padding: 0.3em;box-sizing: border-box;text-align: center;}#sk-container-id-1 label.sk-toggleable__label-arrow:before {content: \"▸\";float: left;margin-right: 0.25em;color: #696969;}#sk-container-id-1 label.sk-toggleable__label-arrow:hover:before {color: black;}#sk-container-id-1 div.sk-estimator:hover label.sk-toggleable__label-arrow:before {color: black;}#sk-container-id-1 div.sk-toggleable__content {max-height: 0;max-width: 0;overflow: hidden;text-align: left;background-color: #f0f8ff;}#sk-container-id-1 div.sk-toggleable__content pre {margin: 0.2em;color: black;border-radius: 0.25em;background-color: #f0f8ff;}#sk-container-id-1 input.sk-toggleable__control:checked~div.sk-toggleable__content {max-height: 200px;max-width: 100%;overflow: auto;}#sk-container-id-1 input.sk-toggleable__control:checked~label.sk-toggleable__label-arrow:before {content: \"▾\";}#sk-container-id-1 div.sk-estimator input.sk-toggleable__control:checked~label.sk-toggleable__label {background-color: #d4ebff;}#sk-container-id-1 div.sk-label input.sk-toggleable__control:checked~label.sk-toggleable__label {background-color: #d4ebff;}#sk-container-id-1 input.sk-hidden--visually {border: 0;clip: rect(1px 1px 1px 1px);clip: rect(1px, 1px, 1px, 1px);height: 1px;margin: -1px;overflow: hidden;padding: 0;position: absolute;width: 1px;}#sk-container-id-1 div.sk-estimator {font-family: monospace;background-color: #f0f8ff;border: 1px dotted black;border-radius: 0.25em;box-sizing: border-box;margin-bottom: 0.5em;}#sk-container-id-1 div.sk-estimator:hover {background-color: #d4ebff;}#sk-container-id-1 div.sk-parallel-item::after {content: \"\";width: 100%;border-bottom: 1px solid gray;flex-grow: 1;}#sk-container-id-1 div.sk-label:hover label.sk-toggleable__label {background-color: #d4ebff;}#sk-container-id-1 div.sk-serial::before {content: \"\";position: absolute;border-left: 1px solid gray;box-sizing: border-box;top: 0;bottom: 0;left: 50%;z-index: 0;}#sk-container-id-1 div.sk-serial {display: flex;flex-direction: column;align-items: center;background-color: white;padding-right: 0.2em;padding-left: 0.2em;position: relative;}#sk-container-id-1 div.sk-item {position: relative;z-index: 1;}#sk-container-id-1 div.sk-parallel {display: flex;align-items: stretch;justify-content: center;background-color: white;position: relative;}#sk-container-id-1 div.sk-item::before, #sk-container-id-1 div.sk-parallel-item::before {content: \"\";position: absolute;border-left: 1px solid gray;box-sizing: border-box;top: 0;bottom: 0;left: 50%;z-index: -1;}#sk-container-id-1 div.sk-parallel-item {display: flex;flex-direction: column;z-index: 1;position: relative;background-color: white;}#sk-container-id-1 div.sk-parallel-item:first-child::after {align-self: flex-end;width: 50%;}#sk-container-id-1 div.sk-parallel-item:last-child::after {align-self: flex-start;width: 50%;}#sk-container-id-1 div.sk-parallel-item:only-child::after {width: 0;}#sk-container-id-1 div.sk-dashed-wrapped {border: 1px dashed gray;margin: 0 0.4em 0.5em 0.4em;box-sizing: border-box;padding-bottom: 0.4em;background-color: white;}#sk-container-id-1 div.sk-label label {font-family: monospace;font-weight: bold;display: inline-block;line-height: 1.2em;}#sk-container-id-1 div.sk-label-container {text-align: center;}#sk-container-id-1 div.sk-container {/* jupyter's `normalize.less` sets `[hidden] { display: none; }` but bootstrap.min.css set `[hidden] { display: none !important; }` so we also need the `!important` here to be able to override the default hidden behavior on the sphinx rendered scikit-learn.org. See: https://github.com/scikit-learn/scikit-learn/issues/21755 */display: inline-block !important;position: relative;}#sk-container-id-1 div.sk-text-repr-fallback {display: none;}</style><div id=\"sk-container-id-1\" class=\"sk-top-container\"><div class=\"sk-text-repr-fallback\"><pre>CountVectorizer(min_df=2,\n",
       "                tokenizer=&lt;function tweet_tokenizer at 0x0000021F58826700&gt;)</pre><b>In a Jupyter environment, please rerun this cell to show the HTML representation or trust the notebook. <br />On GitHub, the HTML representation is unable to render, please try loading this page with nbviewer.org.</b></div><div class=\"sk-container\" hidden><div class=\"sk-item\"><div class=\"sk-estimator sk-toggleable\"><input class=\"sk-toggleable__control sk-hidden--visually\" id=\"sk-estimator-id-1\" type=\"checkbox\" checked><label for=\"sk-estimator-id-1\" class=\"sk-toggleable__label sk-toggleable__label-arrow\">CountVectorizer</label><div class=\"sk-toggleable__content\"><pre>CountVectorizer(min_df=2,\n",
       "                tokenizer=&lt;function tweet_tokenizer at 0x0000021F58826700&gt;)</pre></div></div></div></div></div>"
      ],
      "text/plain": [
       "CountVectorizer(min_df=2,\n",
       "                tokenizer=<function tweet_tokenizer at 0x0000021F58826700>)"
      ]
     },
     "execution_count": 34,
     "metadata": {},
     "output_type": "execute_result"
    }
   ],
   "source": [
    "count_vectorizer.fit(x_train)"
   ]
  },
  {
   "cell_type": "code",
   "execution_count": null,
   "id": "ff7c94ae",
   "metadata": {},
   "outputs": [],
   "source": [
    "feature_names = count_vectorizer.get_feature_names_out()\n",
    "vocab_size = len(feature_names)\n",
    "vocab_size"
   ]
  },
  {
   "cell_type": "code",
   "execution_count": null,
   "id": "ddfbca93",
   "metadata": {},
   "outputs": [],
   "source": [
    "x_train_vectorized = count_vectorizer.transform(x_train)\n",
    "x_test_vectorized = count_vectorizer.transform(x_test)"
   ]
  },
  {
   "cell_type": "code",
   "execution_count": null,
   "id": "13dee607",
   "metadata": {},
   "outputs": [],
   "source": [
    "x_train_vectorized.shape"
   ]
  },
  {
   "cell_type": "markdown",
   "id": "8d4e15ca",
   "metadata": {},
   "source": [
    "# Model 1 - logisticka regresija"
   ]
  },
  {
   "cell_type": "code",
   "execution_count": null,
   "id": "ba83a7a8",
   "metadata": {},
   "outputs": [],
   "source": [
    "model1 = linear_model.LogisticRegression()"
   ]
  },
  {
   "cell_type": "code",
   "execution_count": null,
   "id": "5c604d0f",
   "metadata": {
    "scrolled": false
   },
   "outputs": [],
   "source": [
    "model1.fit(x_train_vectorized,y_train)"
   ]
  },
  {
   "cell_type": "markdown",
   "id": "2297adad",
   "metadata": {},
   "source": [
    "Tacnost modela na trening i test skupu"
   ]
  },
  {
   "cell_type": "code",
   "execution_count": null,
   "id": "4002a1a9",
   "metadata": {},
   "outputs": [],
   "source": [
    "model1_skor_train = model1.score(x_train_vectorized, y_train)\n",
    "model1_skor_test = model1.score(x_test_vectorized, y_test)"
   ]
  },
  {
   "cell_type": "code",
   "execution_count": null,
   "id": "d49a1321",
   "metadata": {},
   "outputs": [],
   "source": [
    "print(\"skor na podacima za treniranje: \", model1_skor_train)\n",
    "print('skor na podacima za testiranje: ', model1_skor_test)"
   ]
  },
  {
   "cell_type": "markdown",
   "id": "9abd23a8",
   "metadata": {},
   "source": [
    "### Matrica konfuzije - logisticka regresija"
   ]
  },
  {
   "cell_type": "code",
   "execution_count": null,
   "id": "9e7b26c1",
   "metadata": {},
   "outputs": [],
   "source": [
    "y_predicted_lr = model1.predict(x_test_vectorized)"
   ]
  },
  {
   "cell_type": "code",
   "execution_count": null,
   "id": "6a492ebe",
   "metadata": {},
   "outputs": [],
   "source": [
    "matrica_konfuzije_lr = metrics.confusion_matrix(y_test, y_predicted_lr)\n",
    "matrica_konfuzije_lr"
   ]
  },
  {
   "cell_type": "code",
   "execution_count": null,
   "id": "e06157c2",
   "metadata": {},
   "outputs": [],
   "source": [
    "plt.pie(matrica_konfuzije_lr.ravel(), labels=['True positive', 'False negative','False positive', 'True negative'])\n",
    "plt.show"
   ]
  },
  {
   "cell_type": "markdown",
   "id": "0b6628ed",
   "metadata": {},
   "source": [
    "# MODEL 2 - linearni SVM"
   ]
  },
  {
   "cell_type": "code",
   "execution_count": null,
   "id": "aa4f1332",
   "metadata": {},
   "outputs": [],
   "source": [
    "model2 = svm.LinearSVC()"
   ]
  },
  {
   "cell_type": "code",
   "execution_count": null,
   "id": "81a1132a",
   "metadata": {},
   "outputs": [],
   "source": [
    "model2.fit(x_train_vectorized, y_train)"
   ]
  },
  {
   "cell_type": "code",
   "execution_count": null,
   "id": "58a2d42e",
   "metadata": {},
   "outputs": [],
   "source": [
    "model2_skor_train = model2.score(x_train_vectorized, y_train)\n",
    "model2_skor_test = model2.score(x_test_vectorized, y_test)"
   ]
  },
  {
   "cell_type": "code",
   "execution_count": null,
   "id": "3b52edaf",
   "metadata": {},
   "outputs": [],
   "source": [
    "print(\"skor na podacima za treniranje: \", model2_skor_train)\n",
    "print('skor na podacima za testiranje: ', model2_skor_test)"
   ]
  },
  {
   "cell_type": "code",
   "execution_count": null,
   "id": "6d5691fc",
   "metadata": {},
   "outputs": [],
   "source": [
    "y_pred_svm = model2.predict(x_test_vectorized)\n",
    "matrica_konfuzije_svm = metrics.confusion_matrix(y_test, y_pred_svm)\n",
    "matrica_konfuzije_svm"
   ]
  },
  {
   "cell_type": "markdown",
   "id": "7923325d",
   "metadata": {},
   "source": [
    "### Matrica konfuzije - linearni SVM"
   ]
  },
  {
   "cell_type": "code",
   "execution_count": null,
   "id": "e8bea832",
   "metadata": {},
   "outputs": [],
   "source": [
    "plt.pie(matrica_konfuzije_svm.ravel(), labels=['True positive', 'False negative','False positive', 'True negative'])\n",
    "plt.show"
   ]
  },
  {
   "cell_type": "markdown",
   "id": "5b461df4",
   "metadata": {},
   "source": [
    "# MODEL 3 - k najblizih suseda"
   ]
  },
  {
   "cell_type": "code",
   "execution_count": null,
   "id": "a42416e6",
   "metadata": {},
   "outputs": [],
   "source": [
    "model3 = neighbors.KNeighborsClassifier(n_neighbors=4)"
   ]
  },
  {
   "cell_type": "code",
   "execution_count": null,
   "id": "874374a4",
   "metadata": {},
   "outputs": [],
   "source": [
    "model3.fit(x_train_vectorized, y_train)"
   ]
  },
  {
   "cell_type": "code",
   "execution_count": null,
   "id": "1c59c91e",
   "metadata": {},
   "outputs": [],
   "source": [
    "model3_skor_train = model3.score(x_train_vectorized, y_train)\n",
    "model3_skor_test = model3.score(x_test_vectorized, y_test)"
   ]
  },
  {
   "cell_type": "code",
   "execution_count": null,
   "id": "310fa54e",
   "metadata": {},
   "outputs": [],
   "source": [
    "print(\"skor na podacima za treniranje: \", model3_skor_train)\n",
    "print('skor na podacima za testiranje: ', model3_skor_test)"
   ]
  },
  {
   "cell_type": "code",
   "execution_count": null,
   "id": "2287d65c",
   "metadata": {},
   "outputs": [],
   "source": [
    "y_pred_kneigh = model3.predict(x_test_vectorized)\n",
    "matrica_konfuzije_kneigh = metrics.confusion_matrix(y_test, y_pred_kneigh)\n",
    "matrica_konfuzije_kneigh"
   ]
  },
  {
   "cell_type": "markdown",
   "id": "2b72655b",
   "metadata": {},
   "source": [
    "### Matrica konfuzije - k najblizih suseda"
   ]
  },
  {
   "cell_type": "code",
   "execution_count": null,
   "id": "60f0f8c3",
   "metadata": {
    "scrolled": true
   },
   "outputs": [],
   "source": [
    "plt.pie(matrica_konfuzije_kneigh.ravel(), labels=['True positive', 'False negative','False positive', 'True negative'])\n",
    "plt.show"
   ]
  },
  {
   "cell_type": "markdown",
   "id": "5a5b1751",
   "metadata": {},
   "source": [
    "## LEMATIZACIJA"
   ]
  },
  {
   "cell_type": "code",
   "execution_count": null,
   "id": "a35b3a3b",
   "metadata": {},
   "outputs": [],
   "source": [
    "def get_wordnet_pos_tag(token):\n",
    "    #uparujemo prvi karakter PennTreebank POS obelezja sa odgovarajucim WordNet POS obelezjem\n",
    "    pos_tag_dict = {\n",
    "        'N' : 'n',\n",
    "        'V' : 'v',\n",
    "        'J' : 'a',\n",
    "        'R' : 'r'\n",
    "    }\n",
    "    \n",
    "    penn_pos_tag = nltk.pos_tag([token])[0][1][0]\n",
    "    \n",
    "    #mapiramo ga u odgovarajuce WordNet POS obelezje ili postavljamo podrazumevano na POS obelezje imenice\n",
    "    if penn_pos_tag in pos_tag_dict:\n",
    "        return pos_tag_dict[penn_pos_tag]\n",
    "    else:\n",
    "        return 'n'"
   ]
  },
  {
   "cell_type": "code",
   "execution_count": null,
   "id": "b3b75e17",
   "metadata": {},
   "outputs": [],
   "source": [
    "def tweet_lemma_tokenizer(tweet):\n",
    "    tweet_tokens = nltk.tokenize.word_tokenize(tweet)\n",
    "    \n",
    "    tweet_lemmas = []\n",
    "    \n",
    "    lemmatizer = nltk.stem.WordNetLemmatizer()\n",
    "    \n",
    "    for token in tweet_tokens:\n",
    "        if token in string.punctuation:\n",
    "            continue\n",
    "        if token in stopwords_list:\n",
    "            continue\n",
    "        if token.isdigit():\n",
    "            continue\n",
    "            \n",
    "        pos_tag = get_wordnet_pos_tag(token)\n",
    "        lemma = lemmatizer.lemmatize(token, pos_tag)\n",
    "        tweet_lemmas.append(lemma)\n",
    "        \n",
    "    return tweet_lemmas"
   ]
  },
  {
   "cell_type": "code",
   "execution_count": null,
   "id": "cea51c97",
   "metadata": {},
   "outputs": [],
   "source": [
    "count_vectorizer = feature_extraction.text.CountVectorizer(min_df=2, tokenizer=tweet_lemma_tokenizer)"
   ]
  },
  {
   "cell_type": "code",
   "execution_count": null,
   "id": "2656fa2d",
   "metadata": {},
   "outputs": [],
   "source": [
    "import nltk\n",
    "nltk.download('omw-1.4')"
   ]
  },
  {
   "cell_type": "markdown",
   "id": "a16b8e43",
   "metadata": {},
   "source": [
    "# Model 1 - logisticka regresija"
   ]
  },
  {
   "cell_type": "code",
   "execution_count": null,
   "id": "123dea9b",
   "metadata": {},
   "outputs": [],
   "source": [
    "model4 = linear_model.LogisticRegression()"
   ]
  },
  {
   "cell_type": "code",
   "execution_count": null,
   "id": "5a1ed7f6",
   "metadata": {
    "scrolled": false
   },
   "outputs": [],
   "source": [
    "model4.fit(x_train_vectorized,y_train)"
   ]
  },
  {
   "cell_type": "markdown",
   "id": "a292e991",
   "metadata": {},
   "source": [
    "Tacnost modela na trening i test skupu"
   ]
  },
  {
   "cell_type": "code",
   "execution_count": null,
   "id": "ebd8de9c",
   "metadata": {},
   "outputs": [],
   "source": [
    "model4_skor_train = model4.score(x_train_vectorized, y_train)\n",
    "model4_skor_test = model4.score(x_test_vectorized, y_test)"
   ]
  },
  {
   "cell_type": "code",
   "execution_count": null,
   "id": "5597455d",
   "metadata": {},
   "outputs": [],
   "source": [
    "print(\"skor na podacima za treniranje: \", model4_skor_train)\n",
    "print('skor na podacima za testiranje: ', model4_skor_test)"
   ]
  },
  {
   "cell_type": "markdown",
   "id": "7aaf6bc4",
   "metadata": {},
   "source": [
    "### Matrica konfuzije - logisticka regresija"
   ]
  },
  {
   "cell_type": "code",
   "execution_count": null,
   "id": "83725dfb",
   "metadata": {},
   "outputs": [],
   "source": [
    "y_predicted_lr = model4.predict(x_test_vectorized)"
   ]
  },
  {
   "cell_type": "code",
   "execution_count": null,
   "id": "d2eccbe6",
   "metadata": {},
   "outputs": [],
   "source": [
    "matrica_konfuzije_lr = metrics.confusion_matrix(y_test, y_predicted_lr)\n",
    "matrica_konfuzije_lr"
   ]
  },
  {
   "cell_type": "code",
   "execution_count": null,
   "id": "108f60ba",
   "metadata": {},
   "outputs": [],
   "source": [
    "plt.pie(matrica_konfuzije_lr.ravel(), labels=['True positive', 'False negative','False positive', 'True negative'])\n",
    "plt.show"
   ]
  },
  {
   "cell_type": "markdown",
   "id": "5cdeb785",
   "metadata": {},
   "source": [
    "# MODEL 2 - linearni SVM"
   ]
  },
  {
   "cell_type": "code",
   "execution_count": null,
   "id": "55362043",
   "metadata": {},
   "outputs": [],
   "source": [
    "model5 = svm.LinearSVC()"
   ]
  },
  {
   "cell_type": "code",
   "execution_count": null,
   "id": "d04d2947",
   "metadata": {},
   "outputs": [],
   "source": [
    "model5.fit(x_train_vectorized, y_train)"
   ]
  },
  {
   "cell_type": "code",
   "execution_count": null,
   "id": "0769f038",
   "metadata": {},
   "outputs": [],
   "source": [
    "model5_skor_train = model5.score(x_train_vectorized, y_train)\n",
    "model5_skor_test = model5.score(x_test_vectorized, y_test)"
   ]
  },
  {
   "cell_type": "code",
   "execution_count": null,
   "id": "2772b8b6",
   "metadata": {},
   "outputs": [],
   "source": [
    "print(\"skor na podacima za treniranje: \", model5_skor_train)\n",
    "print('skor na podacima za testiranje: ', model5_skor_test)"
   ]
  },
  {
   "cell_type": "code",
   "execution_count": null,
   "id": "b55ff7eb",
   "metadata": {},
   "outputs": [],
   "source": [
    "y_pred_svm = model5.predict(x_test_vectorized)\n",
    "matrica_konfuzije_svm = metrics.confusion_matrix(y_test, y_pred_svm)\n",
    "matrica_konfuzije_svm"
   ]
  },
  {
   "cell_type": "markdown",
   "id": "904f3db8",
   "metadata": {},
   "source": [
    "### Matrica konfuzije - linearni SVM"
   ]
  },
  {
   "cell_type": "code",
   "execution_count": null,
   "id": "89df27db",
   "metadata": {},
   "outputs": [],
   "source": [
    "plt.pie(matrica_konfuzije_svm.ravel(), labels=['True positive', 'False negative','False positive', 'True negative'])\n",
    "plt.show"
   ]
  },
  {
   "cell_type": "markdown",
   "id": "0497a5a4",
   "metadata": {},
   "source": [
    "# MODEL 3 - k najblizih suseda"
   ]
  },
  {
   "cell_type": "code",
   "execution_count": null,
   "id": "c11e97c9",
   "metadata": {},
   "outputs": [],
   "source": [
    "model6 = neighbors.KNeighborsClassifier(n_neighbors=4)"
   ]
  },
  {
   "cell_type": "code",
   "execution_count": null,
   "id": "77061bc4",
   "metadata": {},
   "outputs": [],
   "source": [
    "model6.fit(x_train_vectorized, y_train)"
   ]
  },
  {
   "cell_type": "code",
   "execution_count": null,
   "id": "0dce5622",
   "metadata": {},
   "outputs": [],
   "source": [
    "model6_skor_train = model6.score(x_train_vectorized, y_train)\n",
    "model6_skor_test = model6.score(x_test_vectorized, y_test)"
   ]
  },
  {
   "cell_type": "code",
   "execution_count": null,
   "id": "24139583",
   "metadata": {},
   "outputs": [],
   "source": [
    "print(\"skor na podacima za treniranje: \", model6_skor_train)\n",
    "print('skor na podacima za testiranje: ', model6_skor_test)"
   ]
  },
  {
   "cell_type": "code",
   "execution_count": null,
   "id": "6e48168d",
   "metadata": {},
   "outputs": [],
   "source": [
    "y_pred_kneigh = model6.predict(x_test_vectorized)\n",
    "matrica_konfuzije_kneigh = metrics.confusion_matrix(y_test, y_pred_kneigh)\n",
    "matrica_konfuzije_kneigh"
   ]
  },
  {
   "cell_type": "markdown",
   "id": "bdb0a657",
   "metadata": {},
   "source": [
    "### Matrica konfuzije - k najblizih suseda"
   ]
  },
  {
   "cell_type": "code",
   "execution_count": null,
   "id": "b844a1cf",
   "metadata": {
    "scrolled": true
   },
   "outputs": [],
   "source": [
    "plt.pie(matrica_konfuzije_kneigh.ravel(), labels=['True positive', 'False negative','False positive', 'True negative'])\n",
    "plt.show"
   ]
  },
  {
   "cell_type": "code",
   "execution_count": null,
   "id": "b39663f1",
   "metadata": {},
   "outputs": [],
   "source": []
  },
  {
   "cell_type": "code",
   "execution_count": null,
   "id": "10eeb4f2",
   "metadata": {},
   "outputs": [],
   "source": []
  }
 ],
 "metadata": {
  "kernelspec": {
   "display_name": "Python 3 (ipykernel)",
   "language": "python",
   "name": "python3"
  },
  "language_info": {
   "codemirror_mode": {
    "name": "ipython",
    "version": 3
   },
   "file_extension": ".py",
   "mimetype": "text/x-python",
   "name": "python",
   "nbconvert_exporter": "python",
   "pygments_lexer": "ipython3",
   "version": "3.11.5"
  }
 },
 "nbformat": 4,
 "nbformat_minor": 5
}
